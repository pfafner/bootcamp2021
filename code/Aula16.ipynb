{
 "cells": [
  {
   "cell_type": "markdown",
   "metadata": {},
   "source": [
    "# Data Science Bootcamp\n",
    "# <center> **Aula 16 -- Regression: Ordinary Least Squares (OLS)**"
   ]
  },
  {
   "cell_type": "code",
   "execution_count": null,
   "metadata": {},
   "outputs": [],
   "source": [
    "import numpy as np\n",
    "import pandas as pd\n",
    "import matplotlib.pyplot as plt\n",
    "from scipy.stats import norm\n",
    "\n",
    "import seaborn as sns\n",
    "import statsmodels.api as sm\n",
    "import statsmodels.formula.api as smf\n",
    "from statsmodels.sandbox.regression.predstd import wls_prediction_std\n",
    "from statsmodels.graphics.gofplots import ProbPlot\n",
    "\n",
    "from plot_diagnostic import diagnostic_plots\n",
    "\n",
    "import warnings\n",
    "warnings.filterwarnings('ignore')"
   ]
  },
  {
   "cell_type": "code",
   "execution_count": null,
   "metadata": {},
   "outputs": [],
   "source": []
  },
  {
   "cell_type": "markdown",
   "metadata": {},
   "source": [
    "## Generate Synthetic data"
   ]
  },
  {
   "cell_type": "code",
   "execution_count": null,
   "metadata": {},
   "outputs": [],
   "source": [
    "nsample = 100\n",
    "x = np.linspace(0, 10, 100)\n",
    "X = np.column_stack((x, x**2/10.))\n",
    "beta = np.array([1, 0.1, 3.])\n",
    "e = np.random.normal(size=nsample)"
   ]
  },
  {
   "cell_type": "code",
   "execution_count": null,
   "metadata": {},
   "outputs": [],
   "source": [
    "X = sm.add_constant(X)\n",
    "y = np.dot(X, beta) + e"
   ]
  },
  {
   "cell_type": "code",
   "execution_count": null,
   "metadata": {},
   "outputs": [],
   "source": [
    "print(X.shape, y.shape, beta.shape, e.shape)"
   ]
  },
  {
   "cell_type": "code",
   "execution_count": null,
   "metadata": {},
   "outputs": [],
   "source": [
    "plt.figure()\n",
    "plt.plot(x, y, 'k.', label='observed')\n",
    "plt.plot(x, y, 'k--')\n",
    "plt.legend()\n",
    "plt.show()"
   ]
  },
  {
   "cell_type": "markdown",
   "metadata": {},
   "source": [
    "### OLS Model"
   ]
  },
  {
   "cell_type": "code",
   "execution_count": null,
   "metadata": {},
   "outputs": [],
   "source": [
    "model = sm.OLS(y, X)\n",
    "results = model.fit()"
   ]
  },
  {
   "cell_type": "code",
   "execution_count": null,
   "metadata": {},
   "outputs": [],
   "source": [
    "print(results.summary())"
   ]
  },
  {
   "cell_type": "code",
   "execution_count": null,
   "metadata": {},
   "outputs": [],
   "source": [
    "print('Parameters: ', results.params)\n",
    "print('R2: ', results.rsquared)"
   ]
  },
  {
   "cell_type": "code",
   "execution_count": null,
   "metadata": {},
   "outputs": [],
   "source": [
    "betahat = results.params\n",
    "yhat = X @ betahat"
   ]
  },
  {
   "cell_type": "code",
   "execution_count": null,
   "metadata": {},
   "outputs": [],
   "source": [
    "plt.figure()\n",
    "plt.plot(x, y, 'k.', label='observed')\n",
    "plt.plot(x, y, 'k--')\n",
    "plt.plot(x, yhat, 'r--', label='predicted', lw=2)\n",
    "plt.legend()\n",
    "plt.show()"
   ]
  },
  {
   "cell_type": "code",
   "execution_count": null,
   "metadata": {},
   "outputs": [],
   "source": [
    "alpha = 0.05\n",
    "prstd, cil, ciu = wls_prediction_std(results, alpha=alpha)\n",
    "beta = 0.001\n",
    "prstdb, cilb, ciub = wls_prediction_std(results, alpha=beta)"
   ]
  },
  {
   "cell_type": "code",
   "execution_count": null,
   "metadata": {},
   "outputs": [],
   "source": [
    "plt.figure()\n",
    "plt.plot(x, y, 'k.', label='observed')\n",
    "plt.plot(x, y, 'k--')\n",
    "plt.plot(x, yhat, 'b-', label='predicted', lw=2)\n",
    "plt.plot(x, cil, 'r--', label=r'ci at $\\alpha=${}'.format(alpha))\n",
    "plt.plot(x, ciu, 'r--')\n",
    "plt.plot(x, cilb, 'g--', label=r'ci at $\\alpha=${}'.format(beta))\n",
    "plt.plot(x, ciub, 'g--')\n",
    "plt.fill_between(x, cil, ciu, color='r', alpha=0.15)\n",
    "plt.legend()\n",
    "plt.show()"
   ]
  },
  {
   "cell_type": "code",
   "execution_count": null,
   "metadata": {},
   "outputs": [],
   "source": []
  },
  {
   "cell_type": "markdown",
   "metadata": {},
   "source": [
    "## OLS con términos no lineales"
   ]
  },
  {
   "cell_type": "code",
   "execution_count": null,
   "metadata": {},
   "outputs": [],
   "source": [
    "nsample = 50\n",
    "sigma = 0.5\n",
    "\n",
    "x = np.linspace(0, 20, nsample)\n",
    "X = np.column_stack((x, np.sin(x), (x-5)**2, np.ones(nsample)))\n",
    "\n",
    "# y = 1 + x + sin(x) + (x-5)^2\n",
    "\n",
    "beta = np.array([0.5, 1.5, -0.02, 5.])\n",
    "\n",
    "y_true = X @ beta\n",
    "e = np.random.normal(size=nsample)\n",
    "y = y_true + sigma * e"
   ]
  },
  {
   "cell_type": "code",
   "execution_count": null,
   "metadata": {},
   "outputs": [],
   "source": [
    "print(X.shape, y.shape, beta.shape, e.shape)"
   ]
  },
  {
   "cell_type": "code",
   "execution_count": null,
   "metadata": {},
   "outputs": [],
   "source": [
    "plt.figure()\n",
    "plt.plot(x, y, 'k.', label='observed')\n",
    "plt.plot(x, y, 'k--')\n",
    "plt.legend()\n",
    "plt.show()"
   ]
  },
  {
   "cell_type": "code",
   "execution_count": null,
   "metadata": {},
   "outputs": [],
   "source": [
    "model2 = sm.OLS(y, X)\n",
    "results2 = model2.fit()"
   ]
  },
  {
   "cell_type": "code",
   "execution_count": null,
   "metadata": {},
   "outputs": [],
   "source": [
    "print(results2.summary())"
   ]
  },
  {
   "cell_type": "code",
   "execution_count": null,
   "metadata": {},
   "outputs": [],
   "source": [
    "print('Parameters: ', results2.params)\n",
    "print('R2: ', results2.rsquared)"
   ]
  },
  {
   "cell_type": "code",
   "execution_count": null,
   "metadata": {},
   "outputs": [],
   "source": [
    "betahat = results2.params\n",
    "yhat = X @ betahat"
   ]
  },
  {
   "cell_type": "code",
   "execution_count": null,
   "metadata": {},
   "outputs": [],
   "source": [
    "plt.figure()\n",
    "plt.plot(x, y, 'k.', label='observed')\n",
    "plt.plot(x, y, 'k--')\n",
    "plt.plot(x, yhat, 'r--', label='predicted', lw=2)\n",
    "plt.legend()\n",
    "plt.show()"
   ]
  },
  {
   "cell_type": "code",
   "execution_count": null,
   "metadata": {},
   "outputs": [],
   "source": [
    "alpha = 0.05\n",
    "prstd, cil, ciu = wls_prediction_std(results2, alpha=alpha)\n",
    "beta = 0.01\n",
    "prstdb, cilb, ciub = wls_prediction_std(results2, alpha=beta)"
   ]
  },
  {
   "cell_type": "code",
   "execution_count": null,
   "metadata": {},
   "outputs": [],
   "source": [
    "plt.figure()\n",
    "plt.plot(x, y, 'k.', label='observed')\n",
    "plt.plot(x, y, 'k--')\n",
    "plt.plot(x, yhat, 'b-', label='predicted', lw=2)\n",
    "plt.plot(x, cil, 'r--', label=r'ci at $\\alpha=${}'.format(1-alpha))\n",
    "plt.plot(x, ciu, 'r--')\n",
    "plt.plot(x, cilb, 'g--', label=r'ci at $\\alpha=${}'.format(1-beta))\n",
    "plt.plot(x, ciub, 'g--')\n",
    "plt.fill_between(x, cil, ciu, color='r', alpha=0.15)\n",
    "plt.legend()\n",
    "plt.show()"
   ]
  },
  {
   "cell_type": "code",
   "execution_count": null,
   "metadata": {},
   "outputs": [],
   "source": []
  },
  {
   "cell_type": "markdown",
   "metadata": {},
   "source": [
    "## OLS con variables dummy"
   ]
  },
  {
   "cell_type": "code",
   "execution_count": null,
   "metadata": {},
   "outputs": [],
   "source": [
    "nsample = 50\n",
    "groups = np.zeros(nsample, int)\n",
    "groups[20:40] = 1\n",
    "groups[40:] = 2\n",
    "#dummy = (groups[:,None] == np.unique(groups)).astype(float)"
   ]
  },
  {
   "cell_type": "code",
   "execution_count": null,
   "metadata": {},
   "outputs": [],
   "source": [
    "dummy = pd.get_dummies(groups).values\n",
    "\n",
    "x = np.linspace(0, 20, nsample)\n",
    "# drop reference category\n",
    "X = np.column_stack((x, dummy[:,1:]))\n",
    "X = sm.add_constant(X, prepend=False)"
   ]
  },
  {
   "cell_type": "code",
   "execution_count": null,
   "metadata": {},
   "outputs": [],
   "source": [
    "print(groups)"
   ]
  },
  {
   "cell_type": "code",
   "execution_count": null,
   "metadata": {},
   "outputs": [],
   "source": [
    "print(dummy)"
   ]
  },
  {
   "cell_type": "code",
   "execution_count": null,
   "metadata": {},
   "outputs": [],
   "source": [
    "beta = np.array([1., 3, -3, 10.])\n",
    "y_true = X @ beta\n",
    "e = np.random.normal(size=nsample)\n",
    "y = y_true + e"
   ]
  },
  {
   "cell_type": "code",
   "execution_count": null,
   "metadata": {},
   "outputs": [],
   "source": [
    "plt.figure()\n",
    "plt.plot(x, y, 'k.', label='observed')\n",
    "plt.plot(x, y, 'k--')\n",
    "plt.legend()\n",
    "plt.show()"
   ]
  },
  {
   "cell_type": "code",
   "execution_count": null,
   "metadata": {},
   "outputs": [],
   "source": [
    "model3 = sm.OLS(y, X)\n",
    "results3 = model3.fit()"
   ]
  },
  {
   "cell_type": "code",
   "execution_count": null,
   "metadata": {},
   "outputs": [],
   "source": [
    "print(results3.summary())"
   ]
  },
  {
   "cell_type": "code",
   "execution_count": null,
   "metadata": {},
   "outputs": [],
   "source": [
    "print('Parameters: ', results3.params)\n",
    "print('R2: ', results3.rsquared)"
   ]
  },
  {
   "cell_type": "code",
   "execution_count": null,
   "metadata": {},
   "outputs": [],
   "source": [
    "betahat = results3.params\n",
    "yhat = X @ betahat"
   ]
  },
  {
   "cell_type": "code",
   "execution_count": null,
   "metadata": {},
   "outputs": [],
   "source": [
    "plt.figure()\n",
    "plt.plot(x, y, 'k.', label='observed')\n",
    "plt.plot(x, y, 'k--')\n",
    "plt.plot(x, yhat, 'r--', label='predicted', lw=2)\n",
    "plt.legend()\n",
    "plt.show()"
   ]
  },
  {
   "cell_type": "code",
   "execution_count": null,
   "metadata": {},
   "outputs": [],
   "source": [
    "alpha = 0.05\n",
    "prstd, cil, ciu = wls_prediction_std(results3, alpha=alpha)\n",
    "beta = 0.01\n",
    "prstdb, cilb, ciub = wls_prediction_std(results3, alpha=beta)"
   ]
  },
  {
   "cell_type": "code",
   "execution_count": null,
   "metadata": {},
   "outputs": [],
   "source": [
    "plt.figure()\n",
    "plt.plot(x, y, 'k.', label='observed')\n",
    "plt.plot(x, y, 'k--')\n",
    "plt.plot(x, yhat, 'b-', label='predicted', lw=2)\n",
    "plt.plot(x, cil, 'r--', label=r'ci at $\\alpha=${}'.format(1-alpha))\n",
    "plt.plot(x, ciu, 'r--')\n",
    "plt.plot(x, cilb, 'g--', label=r'ci at $\\alpha=${}'.format(1-beta))\n",
    "plt.plot(x, ciub, 'g--')\n",
    "plt.fill_between(x, cil, ciu, color='r', alpha=0.15)\n",
    "plt.legend()\n",
    "plt.show()"
   ]
  },
  {
   "cell_type": "code",
   "execution_count": null,
   "metadata": {},
   "outputs": [],
   "source": []
  },
  {
   "cell_type": "code",
   "execution_count": null,
   "metadata": {},
   "outputs": [],
   "source": [
    "#test_grupos = np.random.choice(8, size=(50,))\n",
    "#print(test_grupos)"
   ]
  },
  {
   "cell_type": "code",
   "execution_count": null,
   "metadata": {},
   "outputs": [],
   "source": [
    "#dumm = pd.get_dummies(test_grupos)\n",
    "#print(dumm[:10])"
   ]
  },
  {
   "cell_type": "code",
   "execution_count": null,
   "metadata": {},
   "outputs": [],
   "source": []
  },
  {
   "cell_type": "markdown",
   "metadata": {},
   "source": [
    "## Un dataset real"
   ]
  },
  {
   "cell_type": "code",
   "execution_count": null,
   "metadata": {},
   "outputs": [],
   "source": [
    "from statsmodels.datasets.longley import load_pandas\n",
    "\n",
    "y = load_pandas().endog\n",
    "X = load_pandas().exog"
   ]
  },
  {
   "cell_type": "code",
   "execution_count": null,
   "metadata": {},
   "outputs": [],
   "source": [
    "print(X.shape, y.shape)"
   ]
  },
  {
   "cell_type": "code",
   "execution_count": null,
   "metadata": {},
   "outputs": [],
   "source": [
    "X.head()"
   ]
  },
  {
   "cell_type": "code",
   "execution_count": null,
   "metadata": {},
   "outputs": [],
   "source": [
    "y.head()"
   ]
  },
  {
   "cell_type": "code",
   "execution_count": null,
   "metadata": {},
   "outputs": [],
   "source": [
    "plt.figure(figsize=(7,7))\n",
    "sns.pairplot(X, diag_kind='kde')\n",
    "plt.show()"
   ]
  },
  {
   "cell_type": "code",
   "execution_count": null,
   "metadata": {},
   "outputs": [],
   "source": [
    "rows = 2\n",
    "cols = 3\n",
    "\n",
    "plt.figure(figsize=(9,6))\n",
    "for i in range(0,rows):\n",
    "    for j in range(0,cols):\n",
    "        plt.subplot(rows,cols,cols*i+j+1)\n",
    "        plt.plot(X.iloc[:,cols*i+j], y, 'k.', label='observed')\n",
    "        #plt.plot(Xraw.iloc[:,cols*i+j], y, 'k--')\n",
    "        plt.xlabel(X.columns[cols*i+j])\n",
    "        plt.ylabel('TOTEMP')\n",
    "        plt.legend()\n",
    "plt.show()"
   ]
  },
  {
   "cell_type": "code",
   "execution_count": null,
   "metadata": {},
   "outputs": [],
   "source": [
    "model4 = sm.OLS(y, sm.add_constant(X))\n",
    "results4 = model4.fit()"
   ]
  },
  {
   "cell_type": "code",
   "execution_count": null,
   "metadata": {},
   "outputs": [],
   "source": [
    "print(results4.summary())"
   ]
  },
  {
   "cell_type": "code",
   "execution_count": null,
   "metadata": {},
   "outputs": [],
   "source": [
    "print('Parameters: ', results4.params)\n",
    "print('R2: ', results4.rsquared)"
   ]
  },
  {
   "cell_type": "code",
   "execution_count": null,
   "metadata": {},
   "outputs": [],
   "source": [
    "betahat = results4.params\n",
    "yhat = sm.add_constant(X) @ betahat"
   ]
  },
  {
   "cell_type": "code",
   "execution_count": null,
   "metadata": {},
   "outputs": [],
   "source": [
    "minn = min(y.min(), yhat.min())\n",
    "maxx = min(y.max(), yhat.max())\n",
    "\n",
    "plt.figure(figsize=(5,5))\n",
    "plt.plot(y, yhat, 'ko', label='observed')\n",
    "#plt.plot(y, yhat, 'b--')\n",
    "#plt.plot(x, yhat, 'r--', label='predicted', lw=2)\n",
    "plt.plot([minn,maxx], [minn,maxx], 'b--')\n",
    "plt.xlabel('observed')\n",
    "plt.ylabel('predicted')\n",
    "plt.xlim([minn-100, maxx+100])\n",
    "plt.ylim([minn-100,maxx+100])\n",
    "plt.legend()\n",
    "plt.show()"
   ]
  },
  {
   "cell_type": "code",
   "execution_count": null,
   "metadata": {},
   "outputs": [],
   "source": [
    "alpha = 0.05\n",
    "prstd, cil, ciu = wls_prediction_std(results4, alpha=alpha)\n",
    "beta = 0.01\n",
    "prstdb, cilb, ciub = wls_prediction_std(results4, alpha=beta)"
   ]
  },
  {
   "cell_type": "code",
   "execution_count": null,
   "metadata": {},
   "outputs": [],
   "source": [
    "minn = min(y.min(), yhat.min(), cil.min(), ciu.min())\n",
    "maxx = min(y.max(), yhat.max(), cil.max(), ciu.max())\n",
    "\n",
    "plt.figure(figsize=(5,5))\n",
    "plt.plot([minn,maxx], [minn,maxx], 'b--')\n",
    "plt.plot(y, yhat, 'ko', label='observed')\n",
    "plt.plot(y, cil, 'r.', label=r'ci at $\\alpha=${}'.format(1-alpha))\n",
    "plt.plot(y, ciu, 'r.')\n",
    "plt.plot(y, cilb, 'gx', label=r'ci at $\\alpha=${}'.format(1-beta))\n",
    "plt.plot(y, ciub, 'gx')\n",
    "#plt.fill_between(y, cil, ciu, color='r', alpha=0.15)\n",
    "plt.legend()\n",
    "plt.xlabel('observed')\n",
    "plt.ylabel('predicted')\n",
    "plt.xlim([minn-100, maxx+100])\n",
    "plt.ylim([minn-100,maxx+100])\n",
    "plt.legend()\n",
    "plt.show()\n",
    "\n",
    "plt.show()"
   ]
  },
  {
   "cell_type": "code",
   "execution_count": null,
   "metadata": {},
   "outputs": [],
   "source": [
    "diagnostic_plots(X, y, results4)"
   ]
  },
  {
   "cell_type": "code",
   "execution_count": null,
   "metadata": {},
   "outputs": [],
   "source": []
  },
  {
   "cell_type": "markdown",
   "metadata": {},
   "source": [
    "## Statsmodels API Formula"
   ]
  },
  {
   "cell_type": "code",
   "execution_count": null,
   "metadata": {},
   "outputs": [],
   "source": [
    "df = sm.datasets.get_rdataset(\"Guerry\", \"HistData\").data"
   ]
  },
  {
   "cell_type": "code",
   "execution_count": null,
   "metadata": {},
   "outputs": [],
   "source": [
    "df.head()"
   ]
  },
  {
   "cell_type": "code",
   "execution_count": null,
   "metadata": {},
   "outputs": [],
   "source": [
    "df = df[['Lottery', 'Literacy', 'Wealth', 'Region']].dropna()"
   ]
  },
  {
   "cell_type": "code",
   "execution_count": null,
   "metadata": {},
   "outputs": [],
   "source": [
    "df.head()"
   ]
  },
  {
   "cell_type": "markdown",
   "metadata": {},
   "source": [
    "### Sin categórica"
   ]
  },
  {
   "cell_type": "code",
   "execution_count": null,
   "metadata": {},
   "outputs": [],
   "source": [
    "X = df.iloc[:,1:-1]\n",
    "X = sm.add_constant(X)\n",
    "X['Literacy*Wealth'] = X['Literacy']*X['Wealth']\n",
    "y = df.iloc[:,0]"
   ]
  },
  {
   "cell_type": "code",
   "execution_count": null,
   "metadata": {},
   "outputs": [],
   "source": [
    "print(X.shape, y.shape)"
   ]
  },
  {
   "cell_type": "code",
   "execution_count": null,
   "metadata": {},
   "outputs": [],
   "source": [
    "X.head()"
   ]
  },
  {
   "cell_type": "code",
   "execution_count": null,
   "metadata": {},
   "outputs": [],
   "source": [
    "model5 = smf.ols(formula='Lottery ~ Literacy*Wealth', data=df)\n",
    "results5 = model5.fit()"
   ]
  },
  {
   "cell_type": "code",
   "execution_count": null,
   "metadata": {},
   "outputs": [],
   "source": [
    "print(results5.summary())"
   ]
  },
  {
   "cell_type": "code",
   "execution_count": null,
   "metadata": {},
   "outputs": [],
   "source": [
    "print('Parameters: ', results5.params)\n",
    "print('R2: ', results5.rsquared)"
   ]
  },
  {
   "cell_type": "code",
   "execution_count": null,
   "metadata": {},
   "outputs": [],
   "source": [
    "betahat = results5.params\n",
    "yhat = X.values @ betahat"
   ]
  },
  {
   "cell_type": "code",
   "execution_count": null,
   "metadata": {},
   "outputs": [],
   "source": [
    "minn = min(y.min(), yhat.min())\n",
    "maxx = min(y.max(), yhat.max())\n",
    "\n",
    "plt.figure(figsize=(5,5))\n",
    "plt.plot(y, yhat, 'ko', label='observed')\n",
    "#plt.plot(y, yhat, 'b--')\n",
    "#plt.plot(x, yhat, 'r--', label='predicted', lw=2)\n",
    "plt.plot([minn,maxx], [minn,maxx], 'b--')\n",
    "plt.xlabel('observed')\n",
    "plt.ylabel('predicted')\n",
    "plt.xlim([minn-1, maxx+1])\n",
    "plt.ylim([minn-1,maxx+1])\n",
    "plt.legend()\n",
    "plt.show()"
   ]
  },
  {
   "cell_type": "markdown",
   "metadata": {},
   "source": [
    "### Con categórica"
   ]
  },
  {
   "cell_type": "code",
   "execution_count": null,
   "metadata": {},
   "outputs": [],
   "source": [
    "dumm = pd.get_dummies(df)\n",
    "X = dumm.iloc[:,1:]\n",
    "X = sm.add_constant(X)\n",
    "y = df.iloc[:,0]"
   ]
  },
  {
   "cell_type": "code",
   "execution_count": null,
   "metadata": {},
   "outputs": [],
   "source": [
    "print(X.shape, y.shape)"
   ]
  },
  {
   "cell_type": "code",
   "execution_count": null,
   "metadata": {},
   "outputs": [],
   "source": [
    "X.head()"
   ]
  },
  {
   "cell_type": "code",
   "execution_count": null,
   "metadata": {},
   "outputs": [],
   "source": [
    "#model5 = smf.ols(formula='Lottery ~ Literacy + Wealth + Region', data=df)\n",
    "model5 = smf.ols(formula='Lottery ~ Literacy + Wealth + Region_C + Region_E + Region_N + Region_S + Region_W', data=dumm)\n",
    "results5 = model5.fit()"
   ]
  },
  {
   "cell_type": "code",
   "execution_count": null,
   "metadata": {},
   "outputs": [],
   "source": [
    "print(results5.summary())"
   ]
  },
  {
   "cell_type": "code",
   "execution_count": null,
   "metadata": {},
   "outputs": [],
   "source": [
    "print('Parameters: ', results5.params)\n",
    "print('R2: ', results5.rsquared)"
   ]
  },
  {
   "cell_type": "code",
   "execution_count": null,
   "metadata": {},
   "outputs": [],
   "source": [
    "betahat = results5.params\n",
    "yhat = X.values @ betahat"
   ]
  },
  {
   "cell_type": "code",
   "execution_count": null,
   "metadata": {},
   "outputs": [],
   "source": [
    "minn = min(y.min(), yhat.min())\n",
    "maxx = min(y.max(), yhat.max())\n",
    "\n",
    "plt.figure(figsize=(5,5))\n",
    "plt.plot(y, yhat, 'ko', label='observed')\n",
    "#plt.plot(y, yhat, 'b--')\n",
    "#plt.plot(x, yhat, 'r--', label='predicted', lw=2)\n",
    "plt.plot([minn,maxx], [minn,maxx], 'b--')\n",
    "plt.xlabel('observed')\n",
    "plt.ylabel('predicted')\n",
    "plt.xlim([minn-1, maxx+1])\n",
    "plt.ylim([minn-1,maxx+1])\n",
    "plt.legend()\n",
    "plt.show()"
   ]
  },
  {
   "cell_type": "code",
   "execution_count": null,
   "metadata": {},
   "outputs": [],
   "source": []
  },
  {
   "cell_type": "code",
   "execution_count": null,
   "metadata": {},
   "outputs": [],
   "source": []
  }
 ],
 "metadata": {
  "kernelspec": {
   "display_name": "Python 3",
   "language": "python",
   "name": "python3"
  },
  "language_info": {
   "codemirror_mode": {
    "name": "ipython",
    "version": 3
   },
   "file_extension": ".py",
   "mimetype": "text/x-python",
   "name": "python",
   "nbconvert_exporter": "python",
   "pygments_lexer": "ipython3",
   "version": "3.6.12"
  }
 },
 "nbformat": 4,
 "nbformat_minor": 4
}
