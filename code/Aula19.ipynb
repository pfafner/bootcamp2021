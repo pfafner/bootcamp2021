{
 "cells": [
  {
   "cell_type": "markdown",
   "metadata": {},
   "source": [
    "# Data Science Bootcamp\n",
    "# <center> **Aula 19 -- Logistic Classifier**"
   ]
  },
  {
   "cell_type": "code",
   "execution_count": null,
   "metadata": {},
   "outputs": [],
   "source": [
    "import numpy as np\n",
    "import matplotlib.pyplot as plt\n",
    "import seaborn as sns\n",
    "\n",
    "from sklearn.datasets import load_iris\n",
    "\n",
    "from sklearn.metrics import classification_report, confusion_matrix\n",
    "from sklearn.model_selection import train_test_split"
   ]
  },
  {
   "cell_type": "code",
   "execution_count": null,
   "metadata": {},
   "outputs": [],
   "source": []
  },
  {
   "cell_type": "markdown",
   "metadata": {},
   "source": [
    "## Load data"
   ]
  },
  {
   "cell_type": "code",
   "execution_count": null,
   "metadata": {},
   "outputs": [],
   "source": [
    "iris = load_iris()\n",
    "X = iris['data']\n",
    "y = iris['target']"
   ]
  },
  {
   "cell_type": "code",
   "execution_count": null,
   "metadata": {},
   "outputs": [],
   "source": [
    "colors = {0:'red', 1:'blue', 2:'green'}\n",
    "c = []\n",
    "for i in range(0, len(y)):\n",
    "    c.append(colors[y[i]])"
   ]
  },
  {
   "cell_type": "code",
   "execution_count": null,
   "metadata": {},
   "outputs": [],
   "source": [
    "plt.figure()\n",
    "plt.scatter(X[:,0], X[:,1], c=c)\n",
    "plt.show()"
   ]
  },
  {
   "cell_type": "code",
   "execution_count": null,
   "metadata": {},
   "outputs": [],
   "source": [
    "# separamos en clases 0, 1, 2\n",
    "y0 = np.argwhere(y==0)\n",
    "y1 = np.argwhere(y==1)\n",
    "y2 = np.argwhere(y==2)\n",
    "\n",
    "X0 = X[y0]\n",
    "X1 = X[y1]\n",
    "X2 = X[y2]\n",
    "\n",
    "# extract class 0 and 1\n",
    "X01 = np.vstack([X0,X1]).reshape(-1,4)\n",
    "y01 = np.stack(np.array(50*[0] + 50*[1]))\n",
    "\n",
    "# extract class 1 and 2\n",
    "X12 = np.vstack([X1,X2]).reshape(-1,4)\n",
    "y12 = np.stack(np.array(50*[1] + 50*[2]))"
   ]
  },
  {
   "cell_type": "code",
   "execution_count": null,
   "metadata": {},
   "outputs": [],
   "source": [
    "print(X01.shape, y01.shape)\n",
    "print(X12.shape, y12.shape)"
   ]
  },
  {
   "cell_type": "code",
   "execution_count": null,
   "metadata": {},
   "outputs": [],
   "source": []
  },
  {
   "cell_type": "markdown",
   "metadata": {},
   "source": [
    "## Clasificador logístico"
   ]
  },
  {
   "cell_type": "code",
   "execution_count": null,
   "metadata": {},
   "outputs": [],
   "source": [
    "def sigmoid(X, w):\n",
    "    ''' Computes sigmoid function.\n",
    "        Inputs:  X = data, as numpy array of shape (n,d+1).\n",
    "                 w = vector of coeficients, as numpy array of shape (d+1,).\n",
    "        Outputs: y = sigmoid function evaluated on each entry.\n",
    "    '''\n",
    "    return 1./(1. + np.exp(-X@w))\n",
    "\n",
    "\n",
    "def fit(X, y, w0, alpha, maxIter=1000, eps=1e-3):\n",
    "    ''' Iteración del clasificador logístico por descenso gradiente.\n",
    "        Inputs:  X  = data, as numpy array of shape (n,d).\n",
    "                 y  = vector of class labels (0 and 1) ad numpy arryas of shape (n,). \n",
    "                 w0 = initial vector of coeficients.\n",
    "                 alpha = step size.\n",
    "                 maxIter = max numer of iterations in gradient descent.\n",
    "                 eps = convergence tolerance.\n",
    "        Outputs: w     = optimal vector of coefficients.\n",
    "                 conv  = convergence flag (1 = method converged; 0 = not).\n",
    "                 error = error after last step.\n",
    "                 i     = number of total iterations. \n",
    "    '''\n",
    "    n = X.shape[0]\n",
    "    d = X.shape[1]\n",
    "\n",
    "    # Add 1 dimension for the bias term\n",
    "    X = np.concatenate([np.ones((n,1)), X], axis=1)\n",
    "\n",
    "    # init data\n",
    "    w = w0.copy()\n",
    "    error = 10.*eps\n",
    "    i = 0\n",
    "    conv = 0\n",
    "\n",
    "    # main iteration\n",
    "    while ((i <= maxIter) and (error > eps)):\n",
    "        wold = w.copy()\n",
    "        diff = alpha*(y - sigmoid(X, w))\n",
    "        for j in range(0, n):\n",
    "            w += diff[j]*X[j,:]\n",
    "        error = (np.abs(w - wold)).sum()\n",
    "        if (error < eps): conv = 1\n",
    "        i = i+1\n",
    "    return w, conv, error, i\n",
    "\n",
    "    \n",
    "def predict(X, w):\n",
    "    ''' Predicts labels on a dataset, by using optimal weights.\n",
    "        Inputs:  X = data, as numpy array of shape (n,d),\n",
    "                 w  = optimal vector (after fit), of shape (d+1,).\n",
    "        Outputs: y    = real valuated predictions by logistic regression,\n",
    "                 yhat = binary predictions (1 = if y > 0.5, 0 otherwise). \n",
    "    '''\n",
    "    n = X.shape[0]\n",
    "    # Add column of 1s\n",
    "    X = np.concatenate([np.ones((n,1)), X], axis=1)\n",
    "    y = sigmoid(X, w)                  # real labels in (0,1)\n",
    "    yhat = (y > 0.5).astype(np.uint8)  # binary labels\n",
    "    return y, yhat"
   ]
  },
  {
   "cell_type": "markdown",
   "metadata": {},
   "source": [
    "### Experimento 1: Clase 0 y 1 (linealmente separable)"
   ]
  },
  {
   "cell_type": "code",
   "execution_count": null,
   "metadata": {},
   "outputs": [],
   "source": [
    "alpha   = 1e-3\n",
    "maxIter = 5000\n",
    "eps     = 1e-3\n",
    "#w0 = np.zeros(3)\n",
    "w0 = np.random.rand(3,)"
   ]
  },
  {
   "cell_type": "code",
   "execution_count": null,
   "metadata": {},
   "outputs": [],
   "source": [
    "# Training (gradient descent)\n",
    "\n",
    "w, conv, err, it = fit(X01[:,[0,1]], y01, w0, alpha, maxIter, eps)\n",
    "print(w, conv, err, it)"
   ]
  },
  {
   "cell_type": "code",
   "execution_count": null,
   "metadata": {},
   "outputs": [],
   "source": [
    "yprob, yhat = predict(X01[:,[0,1]], w)\n",
    "print(yprob)\n",
    "print(yhat)"
   ]
  },
  {
   "cell_type": "code",
   "execution_count": null,
   "metadata": {},
   "outputs": [],
   "source": [
    "cfmatrix = confusion_matrix(y01, yhat)\n",
    "print(cfmatrix)"
   ]
  },
  {
   "cell_type": "code",
   "execution_count": null,
   "metadata": {},
   "outputs": [],
   "source": [
    "plt.figure()\n",
    "sns.heatmap(cfmatrix, annot=True)\n",
    "plt.show()"
   ]
  },
  {
   "cell_type": "code",
   "execution_count": null,
   "metadata": {},
   "outputs": [],
   "source": [
    "print(classification_report(y01, yhat))"
   ]
  },
  {
   "cell_type": "markdown",
   "metadata": {},
   "source": [
    "## Regiones de clasificación"
   ]
  },
  {
   "cell_type": "code",
   "execution_count": null,
   "metadata": {},
   "outputs": [],
   "source": [
    "# Plotting decision regions\n",
    "h = 0.01\n",
    "x_min, x_max = X01[:,0].min() - 1, X01[:,0].max() + 1\n",
    "y_min, y_max = X01[:,1].min() - 1, X01[:,1].max() + 1\n",
    "xx, yy = np.meshgrid(np.arange(x_min, x_max, h),\n",
    "                     np.arange(y_min, y_max, h))"
   ]
  },
  {
   "cell_type": "code",
   "execution_count": null,
   "metadata": {},
   "outputs": [],
   "source": [
    "plt.figure(figsize=(6,6))\n",
    "Zp, Z = predict(np.c_[xx.ravel(), yy.ravel()], w)\n",
    "Z = Z.reshape(xx.shape)\n",
    "plt.contourf(xx, yy, Z, alpha=0.4)\n",
    "plt.scatter(X01[:,0], X01[:,1], c=y01, s=20, edgecolor='k')\n",
    "plt.title('Clasificador Logístico')\n",
    "#plt.h([0,0], w, 'k-')\n",
    "plt.xlim([x_min,x_max])\n",
    "plt.ylim([y_min,y_max])\n",
    "plt.show()"
   ]
  },
  {
   "cell_type": "markdown",
   "metadata": {},
   "source": [
    "### Experimento 2: Clase 1 y 2 (no separable)"
   ]
  },
  {
   "cell_type": "code",
   "execution_count": null,
   "metadata": {},
   "outputs": [],
   "source": [
    "alpha   = 1e-3\n",
    "maxIter = 5000\n",
    "eps     = 1e-3\n",
    "#w0 = np.zeros(3)\n",
    "w0 = np.random.rand(3,)"
   ]
  },
  {
   "cell_type": "code",
   "execution_count": null,
   "metadata": {},
   "outputs": [],
   "source": [
    "# Training (gradient descent)\n",
    "\n",
    "w, conv, err, it = fit(X12[:,[0,1]], y01, w0, alpha, maxIter, eps)\n",
    "print(w, conv, err, it)"
   ]
  },
  {
   "cell_type": "code",
   "execution_count": null,
   "metadata": {},
   "outputs": [],
   "source": [
    "yprob, yhat = predict(X12[:,[0,1]], w)\n",
    "print(yprob)\n",
    "print(yhat)"
   ]
  },
  {
   "cell_type": "code",
   "execution_count": null,
   "metadata": {},
   "outputs": [],
   "source": [
    "cfmatrix = confusion_matrix(y01, yhat)\n",
    "print(cfmatrix)"
   ]
  },
  {
   "cell_type": "code",
   "execution_count": null,
   "metadata": {},
   "outputs": [],
   "source": [
    "plt.figure()\n",
    "sns.heatmap(cfmatrix, annot=True)\n",
    "plt.show()"
   ]
  },
  {
   "cell_type": "code",
   "execution_count": null,
   "metadata": {},
   "outputs": [],
   "source": [
    "print(classification_report(y01, yhat))"
   ]
  },
  {
   "cell_type": "markdown",
   "metadata": {},
   "source": [
    "## Regiones de clasificación"
   ]
  },
  {
   "cell_type": "code",
   "execution_count": null,
   "metadata": {},
   "outputs": [],
   "source": [
    "# Plotting decision regions\n",
    "h = 0.01\n",
    "x_min, x_max = X12[:,0].min() - 1, X12[:,0].max() + 1\n",
    "y_min, y_max = X12[:,1].min() - 1, X12[:,1].max() + 1\n",
    "xx, yy = np.meshgrid(np.arange(x_min, x_max, h),\n",
    "                     np.arange(y_min, y_max, h))"
   ]
  },
  {
   "cell_type": "code",
   "execution_count": null,
   "metadata": {},
   "outputs": [],
   "source": [
    "plt.figure(figsize=(6,6))\n",
    "Zp, Z = predict(np.c_[xx.ravel(), yy.ravel()], w)\n",
    "Z = Z.reshape(xx.shape)\n",
    "plt.contourf(xx, yy, Z, alpha=0.4)\n",
    "plt.scatter(X12[:,0], X12[:,1], c=y01, s=20, edgecolor='k')\n",
    "plt.title('Clasificador Logístico')\n",
    "#plt.h([0,0], w, 'k-')\n",
    "plt.xlim([x_min,x_max])\n",
    "plt.ylim([y_min,y_max])\n",
    "plt.show()"
   ]
  },
  {
   "cell_type": "code",
   "execution_count": null,
   "metadata": {},
   "outputs": [],
   "source": []
  },
  {
   "cell_type": "markdown",
   "metadata": {},
   "source": [
    "## Sklearn"
   ]
  },
  {
   "cell_type": "code",
   "execution_count": null,
   "metadata": {},
   "outputs": [],
   "source": [
    "from sklearn.linear_model import LogisticRegression"
   ]
  },
  {
   "cell_type": "code",
   "execution_count": null,
   "metadata": {},
   "outputs": [],
   "source": [
    "model = LogisticRegression()\n",
    "#penalty='l2', *, dual=False, tol=0.0001, C=1.0, fit_intercept=True,\n",
    "#intercept_scaling=1, class_weight=None, random_state=None, solver='lbfgs',\n",
    "#max_iter=100, multi_class='auto', verbose=0, warm_start=False, n_jobs=None,\n",
    "#l1_ratio=None)[source]"
   ]
  },
  {
   "cell_type": "code",
   "execution_count": null,
   "metadata": {},
   "outputs": [],
   "source": [
    "model.fit(X01[:,[0,1]], y01)"
   ]
  },
  {
   "cell_type": "code",
   "execution_count": null,
   "metadata": {},
   "outputs": [],
   "source": [
    "model.coef_"
   ]
  },
  {
   "cell_type": "code",
   "execution_count": null,
   "metadata": {},
   "outputs": [],
   "source": [
    "ypred = model.predict(X01[:,[0,1]])\n",
    "print(ypred)"
   ]
  },
  {
   "cell_type": "code",
   "execution_count": null,
   "metadata": {},
   "outputs": [],
   "source": [
    "cfmatrix = confusion_matrix(y01, ypred)\n",
    "print(cfmatrix)"
   ]
  },
  {
   "cell_type": "code",
   "execution_count": null,
   "metadata": {},
   "outputs": [],
   "source": [
    "plt.figure()\n",
    "sns.heatmap(cfmatrix, annot=True)\n",
    "plt.show()"
   ]
  },
  {
   "cell_type": "code",
   "execution_count": null,
   "metadata": {},
   "outputs": [],
   "source": [
    "print(classification_report(y01, ypred))"
   ]
  },
  {
   "cell_type": "markdown",
   "metadata": {},
   "source": [
    "## Regiones de clasificación"
   ]
  },
  {
   "cell_type": "code",
   "execution_count": null,
   "metadata": {},
   "outputs": [],
   "source": [
    "# Plotting decision regions\n",
    "h = 0.01\n",
    "x_min, x_max = X01[:,0].min() - 1, X01[:,0].max() + 1\n",
    "y_min, y_max = X01[:,1].min() - 1, X01[:,1].max() + 1\n",
    "xx, yy = np.meshgrid(np.arange(x_min, x_max, h),\n",
    "                     np.arange(y_min, y_max, h))"
   ]
  },
  {
   "cell_type": "code",
   "execution_count": null,
   "metadata": {},
   "outputs": [],
   "source": [
    "plt.figure(figsize=(6,6))\n",
    "Z = model.predict(np.c_[xx.ravel(), yy.ravel()])\n",
    "Z = Z.reshape(xx.shape)\n",
    "plt.contourf(xx, yy, Z, alpha=0.4)\n",
    "plt.scatter(X01[:,0], X01[:,1], c=y01, s=20, edgecolor='k')\n",
    "plt.title('Clasificador Logistico')\n",
    "#plt.h([0,0], w, 'k-')\n",
    "plt.xlim([x_min,x_max])\n",
    "plt.ylim([y_min,y_max])\n",
    "plt.show()"
   ]
  },
  {
   "cell_type": "code",
   "execution_count": null,
   "metadata": {},
   "outputs": [],
   "source": [
    "model2 = LogisticRegression()"
   ]
  },
  {
   "cell_type": "code",
   "execution_count": null,
   "metadata": {},
   "outputs": [],
   "source": [
    "model2.fit(X12[:,[0,1]], y01)"
   ]
  },
  {
   "cell_type": "code",
   "execution_count": null,
   "metadata": {},
   "outputs": [],
   "source": [
    "model2.coef_"
   ]
  },
  {
   "cell_type": "code",
   "execution_count": null,
   "metadata": {},
   "outputs": [],
   "source": [
    "ypred2 = model2.predict(X12[:,[0,1]])\n",
    "print(ypred2)"
   ]
  },
  {
   "cell_type": "code",
   "execution_count": null,
   "metadata": {},
   "outputs": [],
   "source": [
    "cfmatrix2 = confusion_matrix(y01, ypred2)\n",
    "print(cfmatrix2)"
   ]
  },
  {
   "cell_type": "code",
   "execution_count": null,
   "metadata": {},
   "outputs": [],
   "source": [
    "plt.figure()\n",
    "sns.heatmap(cfmatrix2, annot=True)\n",
    "plt.show()"
   ]
  },
  {
   "cell_type": "code",
   "execution_count": null,
   "metadata": {},
   "outputs": [],
   "source": [
    "print(classification_report(y01, ypred2))"
   ]
  },
  {
   "cell_type": "markdown",
   "metadata": {},
   "source": [
    "## Regiones de clasificación"
   ]
  },
  {
   "cell_type": "code",
   "execution_count": null,
   "metadata": {},
   "outputs": [],
   "source": [
    "# Plotting decision regions\n",
    "h = 0.01\n",
    "x_min, x_max = X12[:,0].min() - 1, X12[:,0].max() + 1\n",
    "y_min, y_max = X12[:,1].min() - 1, X12[:,1].max() + 1\n",
    "xx, yy = np.meshgrid(np.arange(x_min, x_max, h),\n",
    "                     np.arange(y_min, y_max, h))"
   ]
  },
  {
   "cell_type": "code",
   "execution_count": null,
   "metadata": {},
   "outputs": [],
   "source": [
    "plt.figure(figsize=(8,8))\n",
    "Z = model2.predict(np.c_[xx.ravel(), yy.ravel()])\n",
    "Z = Z.reshape(xx.shape)\n",
    "plt.contourf(xx, yy, Z, alpha=0.4)\n",
    "plt.scatter(X12[:,0], X12[:,1], c=y01, s=20, edgecolor='k')\n",
    "plt.title('Clasificador Logistico')\n",
    "#plt.h([0,0], w, 'k-')\n",
    "plt.xlim([x_min,x_max])\n",
    "plt.ylim([y_min,y_max])\n",
    "plt.show()"
   ]
  },
  {
   "cell_type": "code",
   "execution_count": null,
   "metadata": {},
   "outputs": [],
   "source": []
  }
 ],
 "metadata": {
  "kernelspec": {
   "display_name": "Python 3",
   "language": "python",
   "name": "python3"
  },
  "language_info": {
   "codemirror_mode": {
    "name": "ipython",
    "version": 3
   },
   "file_extension": ".py",
   "mimetype": "text/x-python",
   "name": "python",
   "nbconvert_exporter": "python",
   "pygments_lexer": "ipython3",
   "version": "3.6.10"
  }
 },
 "nbformat": 4,
 "nbformat_minor": 4
}
