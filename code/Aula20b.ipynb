{
 "cells": [
  {
   "cell_type": "markdown",
   "metadata": {},
   "source": [
    "# Data Science Bootcamp\n",
    "# <center> **Aula 20b -- Random Forests**"
   ]
  },
  {
   "cell_type": "code",
   "execution_count": null,
   "metadata": {},
   "outputs": [],
   "source": [
    "import numpy as np\n",
    "import matplotlib.pyplot as plt\n",
    "import seaborn as sns\n",
    "\n",
    "from sklearn.datasets import load_iris\n",
    "\n",
    "from sklearn.tree import DecisionTreeClassifier, DecisionTreeRegressor\n",
    "from sklearn.tree import plot_tree\n",
    "from sklearn.ensemble import RandomForestClassifier, RandomForestRegressor\n",
    "from sklearn.ensemble import AdaBoostClassifier, GradientBoostingClassifier\n",
    "from sklearn.ensemble import AdaBoostRegressor, GradientBoostingRegressor\n",
    "\n",
    "from sklearn.metrics import classification_report, confusion_matrix\n",
    "from sklearn.model_selection import train_test_split"
   ]
  },
  {
   "cell_type": "code",
   "execution_count": null,
   "metadata": {},
   "outputs": [],
   "source": []
  },
  {
   "cell_type": "markdown",
   "metadata": {},
   "source": [
    "## Load data"
   ]
  },
  {
   "cell_type": "code",
   "execution_count": null,
   "metadata": {},
   "outputs": [],
   "source": [
    "iris = load_iris()\n",
    "X = iris['data']\n",
    "y = iris['target']"
   ]
  },
  {
   "cell_type": "code",
   "execution_count": null,
   "metadata": {},
   "outputs": [],
   "source": [
    "colors = {0:'red', 1:'blue', 2:'green'}\n",
    "c = []\n",
    "for i in range(0, len(y)):\n",
    "    c.append(colors[y[i]])"
   ]
  },
  {
   "cell_type": "code",
   "execution_count": null,
   "metadata": {},
   "outputs": [],
   "source": [
    "# variables\n",
    "u = 2\n",
    "v = 3"
   ]
  },
  {
   "cell_type": "code",
   "execution_count": null,
   "metadata": {},
   "outputs": [],
   "source": [
    "plt.figure()\n",
    "plt.scatter(X[:,u], X[:,v], c=c)\n",
    "plt.show()"
   ]
  },
  {
   "cell_type": "code",
   "execution_count": null,
   "metadata": {},
   "outputs": [],
   "source": [
    "# separamos en clases 0, 1, 2\n",
    "y0 = np.argwhere(y==0)\n",
    "y1 = np.argwhere(y==1)\n",
    "y2 = np.argwhere(y==2)\n",
    "\n",
    "X0 = X[y0]\n",
    "X1 = X[y1]\n",
    "X2 = X[y2]\n",
    "\n",
    "# extract class 0 and 1\n",
    "X01 = np.vstack([X0,X1]).reshape(-1,4)\n",
    "y01 = np.stack(np.array(50*[0] + 50*[1]))\n",
    "\n",
    "# extract class 1 and 2\n",
    "X12 = np.vstack([X1,X2]).reshape(-1,4)\n",
    "y12 = np.stack(np.array(50*[0] + 50*[1]))"
   ]
  },
  {
   "cell_type": "code",
   "execution_count": null,
   "metadata": {},
   "outputs": [],
   "source": [
    "print(X.shape, y.shape)\n",
    "print(X01.shape, y01.shape)\n",
    "print(X12.shape, y12.shape)"
   ]
  },
  {
   "cell_type": "code",
   "execution_count": null,
   "metadata": {},
   "outputs": [],
   "source": [
    "Xtrain, Xtest, Ytrain, Ytest = train_test_split(X, y, train_size=0.8, stratify=y,\n",
    "                                                random_state=2021)"
   ]
  },
  {
   "cell_type": "code",
   "execution_count": null,
   "metadata": {},
   "outputs": [],
   "source": [
    "print(Xtrain.shape, Xtest.shape, Ytrain.shape, Ytest.shape)"
   ]
  },
  {
   "cell_type": "markdown",
   "metadata": {},
   "source": [
    "# Random Forest"
   ]
  },
  {
   "cell_type": "markdown",
   "metadata": {},
   "source": [
    "## Ensemble Random Forest"
   ]
  },
  {
   "cell_type": "code",
   "execution_count": null,
   "metadata": {},
   "outputs": [],
   "source": [
    "model = RandomForestClassifier(n_estimators=500, criterion='gini', max_depth=2,\n",
    "                               bootstrap=True, random_state=None)"
   ]
  },
  {
   "cell_type": "code",
   "execution_count": null,
   "metadata": {},
   "outputs": [],
   "source": [
    "model.fit(X[:,[u,v]], y)"
   ]
  },
  {
   "cell_type": "code",
   "execution_count": null,
   "metadata": {},
   "outputs": [],
   "source": [
    "model.estimators_[0]"
   ]
  },
  {
   "cell_type": "code",
   "execution_count": null,
   "metadata": {},
   "outputs": [],
   "source": [
    "# plt.figure(figsize=(20,5))\n",
    "plt.subplot(1,3,1)\n",
    "plot_tree(model.estimators_[0])\n",
    "plt.subplot(1,3,2)\n",
    "plot_tree(model.estimators_[1])\n",
    "plt.subplot(1,3,3)\n",
    "plot_tree(model.estimators_[2])\n",
    "plt.show()"
   ]
  },
  {
   "cell_type": "code",
   "execution_count": null,
   "metadata": {},
   "outputs": [],
   "source": [
    "yhat = model.predict(X[:,[u,v]])\n",
    "print(yhat)"
   ]
  },
  {
   "cell_type": "code",
   "execution_count": null,
   "metadata": {},
   "outputs": [],
   "source": [
    "cfmatrix = confusion_matrix(y, yhat)\n",
    "print(cfmatrix)"
   ]
  },
  {
   "cell_type": "code",
   "execution_count": null,
   "metadata": {},
   "outputs": [],
   "source": [
    "plt.figure()\n",
    "sns.heatmap(cfmatrix, annot=True)\n",
    "plt.show()"
   ]
  },
  {
   "cell_type": "code",
   "execution_count": null,
   "metadata": {},
   "outputs": [],
   "source": [
    "print(classification_report(y, yhat))"
   ]
  },
  {
   "cell_type": "code",
   "execution_count": null,
   "metadata": {},
   "outputs": [],
   "source": [
    "# Plotting decision regions\n",
    "h = 0.01\n",
    "x_min, x_max = X[:,u].min() - 1, X[:,u].max() + 1\n",
    "y_min, y_max = X[:,v].min() - 1, X[:,v].max() + 1\n",
    "xx, yy = np.meshgrid(np.arange(x_min, x_max, h),\n",
    "                     np.arange(y_min, y_max, h))"
   ]
  },
  {
   "cell_type": "code",
   "execution_count": null,
   "metadata": {},
   "outputs": [],
   "source": [
    "# plt.figure(figsize=(6,6))\n",
    "Z = model.predict(np.c_[xx.ravel(), yy.ravel()])\n",
    "Z = Z.reshape(xx.shape)\n",
    "plt.contourf(xx, yy, Z, alpha=0.4)\n",
    "plt.scatter(X[:,u], X[:,v], c=y, s=20, edgecolor='k')\n",
    "plt.title('Random Forest (500 trees)')\n",
    "plt.xlim([x_min,x_max])\n",
    "plt.ylim([y_min,y_max])\n",
    "plt.show()"
   ]
  },
  {
   "cell_type": "markdown",
   "metadata": {},
   "source": [
    "## Ada Boosting"
   ]
  },
  {
   "cell_type": "code",
   "execution_count": null,
   "metadata": {},
   "outputs": [],
   "source": [
    "alpha = 0.1\n",
    "treemodel = DecisionTreeClassifier(criterion='gini', max_depth=2, random_state=None)\n",
    "\n",
    "Adamodel = AdaBoostClassifier(base_estimator=treemodel, n_estimators=500, \n",
    "                              learning_rate=alpha, random_state=None)"
   ]
  },
  {
   "cell_type": "code",
   "execution_count": null,
   "metadata": {},
   "outputs": [],
   "source": [
    "Adamodel.fit(X[:,[u,v]], y)"
   ]
  },
  {
   "cell_type": "code",
   "execution_count": null,
   "metadata": {},
   "outputs": [],
   "source": [
    "Adamodel.estimators_[0]"
   ]
  },
  {
   "cell_type": "code",
   "execution_count": null,
   "metadata": {},
   "outputs": [],
   "source": [
    "plt.figure(figsize=(20,5))\n",
    "plt.subplot(1,3,1)\n",
    "plot_tree(Adamodel.estimators_[0])\n",
    "plt.subplot(1,3,2)\n",
    "plot_tree(Adamodel.estimators_[1])\n",
    "plt.subplot(1,3,3)\n",
    "plot_tree(Adamodel.estimators_[2])\n",
    "plt.show()"
   ]
  },
  {
   "cell_type": "code",
   "execution_count": null,
   "metadata": {},
   "outputs": [],
   "source": [
    "yhat = Adamodel.predict(X[:,[u,v]])\n",
    "print(yhat)"
   ]
  },
  {
   "cell_type": "code",
   "execution_count": null,
   "metadata": {},
   "outputs": [],
   "source": [
    "cfmatrix = confusion_matrix(y, yhat)\n",
    "print(cfmatrix)"
   ]
  },
  {
   "cell_type": "code",
   "execution_count": null,
   "metadata": {},
   "outputs": [],
   "source": [
    "plt.figure()\n",
    "sns.heatmap(cfmatrix, annot=True)\n",
    "plt.show()"
   ]
  },
  {
   "cell_type": "code",
   "execution_count": null,
   "metadata": {},
   "outputs": [],
   "source": [
    "print(classification_report(y, yhat))"
   ]
  },
  {
   "cell_type": "code",
   "execution_count": null,
   "metadata": {},
   "outputs": [],
   "source": [
    "# Plotting decision regions\n",
    "h = 0.01\n",
    "x_min, x_max = X[:,u].min() - 1, X[:,u].max() + 1\n",
    "y_min, y_max = X[:,v].min() - 1, X[:,v].max() + 1\n",
    "xx, yy = np.meshgrid(np.arange(x_min, x_max, h),\n",
    "                     np.arange(y_min, y_max, h))"
   ]
  },
  {
   "cell_type": "code",
   "execution_count": null,
   "metadata": {},
   "outputs": [],
   "source": [
    "# plt.figure(figsize=(6,6))\n",
    "Z = Adamodel.predict(np.c_[xx.ravel(), yy.ravel()])\n",
    "Z = Z.reshape(xx.shape)\n",
    "plt.contourf(xx, yy, Z, alpha=0.4)\n",
    "plt.scatter(X[:,u], X[:,v], c=y, s=20, edgecolor='k')\n",
    "plt.title('Adaptive Boosting (500 trees)')\n",
    "#plt.h([0,0], w, 'k-')\n",
    "plt.xlim([x_min,x_max])\n",
    "plt.ylim([y_min,y_max])\n",
    "plt.show()"
   ]
  },
  {
   "cell_type": "markdown",
   "metadata": {},
   "source": [
    "## Gradient Boosting"
   ]
  },
  {
   "cell_type": "code",
   "execution_count": null,
   "metadata": {},
   "outputs": [],
   "source": [
    "alpha = 0.1\n",
    "Gradmodel = GradientBoostingClassifier(n_estimators=500, subsample=0.9,\n",
    "                                       learning_rate=alpha, random_state=None)"
   ]
  },
  {
   "cell_type": "code",
   "execution_count": null,
   "metadata": {},
   "outputs": [],
   "source": [
    "Gradmodel.fit(X[:,[u,v]], y)"
   ]
  },
  {
   "cell_type": "code",
   "execution_count": null,
   "metadata": {},
   "outputs": [],
   "source": [
    "Gradmodel.estimators_[0][0]"
   ]
  },
  {
   "cell_type": "code",
   "execution_count": null,
   "metadata": {},
   "outputs": [],
   "source": [
    "plt.figure(figsize=(20,5))\n",
    "plt.subplot(1,3,1)\n",
    "plot_tree(Gradmodel.estimators_[0][0])\n",
    "plt.subplot(1,3,2)\n",
    "plot_tree(Gradmodel.estimators_[1][0])\n",
    "plt.subplot(1,3,3)\n",
    "plot_tree(Gradmodel.estimators_[2][0])\n",
    "plt.show()"
   ]
  },
  {
   "cell_type": "code",
   "execution_count": null,
   "metadata": {},
   "outputs": [],
   "source": [
    "yhat = Gradmodel.predict(X[:,[u,v]])\n",
    "print(yhat)"
   ]
  },
  {
   "cell_type": "code",
   "execution_count": null,
   "metadata": {},
   "outputs": [],
   "source": [
    "cfmatrix = confusion_matrix(y, yhat)\n",
    "print(cfmatrix)"
   ]
  },
  {
   "cell_type": "code",
   "execution_count": null,
   "metadata": {},
   "outputs": [],
   "source": [
    "plt.figure()\n",
    "sns.heatmap(cfmatrix, annot=True)\n",
    "plt.show()"
   ]
  },
  {
   "cell_type": "code",
   "execution_count": null,
   "metadata": {},
   "outputs": [],
   "source": [
    "print(classification_report(y, yhat))"
   ]
  },
  {
   "cell_type": "code",
   "execution_count": null,
   "metadata": {},
   "outputs": [],
   "source": [
    "# Plotting decision regions\n",
    "h = 0.01\n",
    "x_min, x_max = X[:,u].min() - 1, X[:,u].max() + 1\n",
    "y_min, y_max = X[:,v].min() - 1, X[:,v].max() + 1\n",
    "xx, yy = np.meshgrid(np.arange(x_min, x_max, h),\n",
    "                     np.arange(y_min, y_max, h))"
   ]
  },
  {
   "cell_type": "code",
   "execution_count": null,
   "metadata": {},
   "outputs": [],
   "source": [
    "plt.figure(figsize=(6,6))\n",
    "Z = Gradmodel.predict(np.c_[xx.ravel(), yy.ravel()])\n",
    "Z = Z.reshape(xx.shape)\n",
    "plt.contourf(xx, yy, Z, alpha=0.4)\n",
    "plt.scatter(X[:,u], X[:,v], c=y, s=20, edgecolor='k')\n",
    "plt.title('Gradient Boosting (500 trees)')\n",
    "#plt.h([0,0], w, 'k-')\n",
    "plt.xlim([x_min,x_max])\n",
    "plt.ylim([y_min,y_max])\n",
    "plt.show()"
   ]
  },
  {
   "cell_type": "code",
   "execution_count": null,
   "metadata": {},
   "outputs": [],
   "source": []
  },
  {
   "cell_type": "markdown",
   "metadata": {},
   "source": [
    "# Comparación"
   ]
  },
  {
   "cell_type": "code",
   "execution_count": null,
   "metadata": {},
   "outputs": [],
   "source": [
    "alpha = 0.1\n",
    "D = 3\n",
    "N = 200"
   ]
  },
  {
   "cell_type": "code",
   "execution_count": null,
   "metadata": {},
   "outputs": [],
   "source": [
    "RF =  RandomForestClassifier(n_estimators=N, criterion='gini', max_depth=D,\n",
    "                             bootstrap=True, random_state=None)\n",
    "\n",
    "treemodel = DecisionTreeClassifier(criterion='gini', max_depth=D, random_state=None)\n",
    "\n",
    "Ada = AdaBoostClassifier(base_estimator=treemodel, n_estimators=N,\n",
    "                         learning_rate=alpha, random_state=None)\n",
    "\n",
    "Grad = GradientBoostingClassifier(n_estimators=N, subsample=0.9, max_depth=D,\n",
    "                                  learning_rate=alpha, random_state=None)"
   ]
  },
  {
   "cell_type": "code",
   "execution_count": null,
   "metadata": {},
   "outputs": [],
   "source": [
    "RF.fit(Xtrain, Ytrain)\n",
    "Ada.fit(Xtrain, Ytrain)\n",
    "Grad.fit(Xtrain, Ytrain)"
   ]
  },
  {
   "cell_type": "code",
   "execution_count": null,
   "metadata": {},
   "outputs": [],
   "source": [
    "plt.figure(figsize=(8,3))\n",
    "plt.subplot(1,2,1)\n",
    "plt.plot(Ada.estimator_errors_)\n",
    "plt.title('Ada Boosting error')\n",
    "plt.subplot(1,2,2)\n",
    "plt.plot(Grad.train_score_)\n",
    "plt.title('Gradient Boosting loss')\n",
    "plt.show()"
   ]
  },
  {
   "cell_type": "code",
   "execution_count": null,
   "metadata": {},
   "outputs": [],
   "source": [
    "yRF = RF.predict(Xtest)\n",
    "yAD = Ada.predict(Xtest)\n",
    "yGR = Grad.predict(Xtest)"
   ]
  },
  {
   "cell_type": "code",
   "execution_count": null,
   "metadata": {},
   "outputs": [],
   "source": [
    "RFcm = confusion_matrix(Ytest, yRF)\n",
    "ADcm = confusion_matrix(Ytest, yAD)\n",
    "GRcm = confusion_matrix(Ytest, yGR)"
   ]
  },
  {
   "cell_type": "code",
   "execution_count": null,
   "metadata": {},
   "outputs": [],
   "source": [
    "print(RFcm, '\\n')\n",
    "print(ADcm, '\\n')\n",
    "print(GRcm)"
   ]
  },
  {
   "cell_type": "code",
   "execution_count": null,
   "metadata": {},
   "outputs": [],
   "source": [
    "print(classification_report(Ytest, yRF), '\\n')\n",
    "print(classification_report(Ytest, yAD), '\\n')\n",
    "print(classification_report(Ytest, yGR))"
   ]
  },
  {
   "cell_type": "code",
   "execution_count": null,
   "metadata": {},
   "outputs": [],
   "source": []
  },
  {
   "cell_type": "markdown",
   "metadata": {},
   "source": [
    "## Feature importances"
   ]
  },
  {
   "cell_type": "code",
   "execution_count": null,
   "metadata": {},
   "outputs": [],
   "source": [
    "def plot_importances(model, features, modelname='Model', fsz=(5,5)):\n",
    "    #for name, importance in zip(names, model.feature_importances_):\n",
    "    #    print(name, \"=\", importance)\n",
    "    imp = model.feature_importances_\n",
    "    idx = np.argsort(imp)\n",
    "    plt.figure(figsize=fsz)\n",
    "    plt.title('{} Feature Importances'.format(modelname))\n",
    "    plt.barh(range(len(idx)), imp[idx], color='b', align='center')\n",
    "    plt.yticks(range(len(idx)), [features[i] for i in idx])\n",
    "    plt.xlabel('Relative Importance')\n",
    "    plt.show()"
   ]
  },
  {
   "cell_type": "code",
   "execution_count": null,
   "metadata": {},
   "outputs": [],
   "source": [
    "names = iris.feature_names"
   ]
  },
  {
   "cell_type": "code",
   "execution_count": null,
   "metadata": {},
   "outputs": [],
   "source": [
    "plot_importances(RF, names, modelname='Random Forest', fsz=(4,3))"
   ]
  },
  {
   "cell_type": "code",
   "execution_count": null,
   "metadata": {},
   "outputs": [],
   "source": [
    "plot_importances(Ada, names, modelname='Ada Boosting', fsz=(4,3))"
   ]
  },
  {
   "cell_type": "code",
   "execution_count": null,
   "metadata": {},
   "outputs": [],
   "source": [
    "plot_importances(Grad, names, modelname='Gradient Boosting', fsz=(4,3))"
   ]
  },
  {
   "cell_type": "code",
   "execution_count": null,
   "metadata": {},
   "outputs": [],
   "source": []
  }
 ],
 "metadata": {
  "kernelspec": {
   "display_name": "Python 3",
   "language": "python",
   "name": "python3"
  },
  "language_info": {
   "codemirror_mode": {
    "name": "ipython",
    "version": 3
   },
   "file_extension": ".py",
   "mimetype": "text/x-python",
   "name": "python",
   "nbconvert_exporter": "python",
   "pygments_lexer": "ipython3",
   "version": "3.6.10"
  }
 },
 "nbformat": 4,
 "nbformat_minor": 4
}
