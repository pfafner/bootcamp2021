{
 "cells": [
  {
   "cell_type": "markdown",
   "metadata": {},
   "source": [
    "# Data Science Bootcamp\n",
    "\n",
    "# <center> **Aula 02 -- Repaso de Python**"
   ]
  },
  {
   "cell_type": "markdown",
   "metadata": {},
   "source": [
    "## Control de Flujo"
   ]
  },
  {
   "cell_type": "markdown",
   "metadata": {},
   "source": [
    "### For"
   ]
  },
  {
   "cell_type": "markdown",
   "metadata": {},
   "source": [
    "Se usa para recorrer sobre los elementos de objetos que acepten iteradores: Contenedores (Listas, por ejemplo)\n",
    "\n",
    "* Notación tipo $\\forall x \\in X$.\n",
    "\n",
    "* El comando del ciclo termina con dos puntos (:)\n",
    "\n",
    "* El cuerpo de ciclo está indentado, de hecho el editor lo hace automáticamente.\n",
    "\n",
    "* No hay un _*end*_ para delimitar el ciclo, se delimita por el fin de la identación."
   ]
  },
  {
   "cell_type": "code",
   "execution_count": null,
   "metadata": {},
   "outputs": [],
   "source": [
    "clientes = ['Juan', 'Pedro','Elsa','Ana', 'Alberto','Judith','Miguel', 'Oscar','Laura', 'Jose', 'Roberto','Andrés','María']\n",
    "\n",
    "for cliente in clientes:\n",
    "    print ('{} es cliente de la empresa'.format(cliente))\n",
    "    \n",
    "print('Fin de lista')"
   ]
  },
  {
   "cell_type": "code",
   "execution_count": null,
   "metadata": {},
   "outputs": [],
   "source": [
    "mascotas = {'perro', 'gato', 'pájaro', 'tortuga', 'pez', 'conejo', 'lagartija'}\n",
    "\n",
    "idx = 0\n",
    "for animal in mascotas:\n",
    "    idx = idx+1\n",
    "    print ('#{}: {}'.format(idx, animal))\n",
    "\n",
    "print('')"
   ]
  },
  {
   "cell_type": "markdown",
   "metadata": {},
   "source": [
    "### Enumerate"
   ]
  },
  {
   "cell_type": "markdown",
   "metadata": {},
   "source": [
    "Crea un iterador que recorre la lista en el argumento. Este iterador consiste de dos partes:\n",
    "\n",
    "1. Un índice i, que indica el valor actual del iterador (comienza a partir de 0)\n",
    "\n",
    "2. El valor guardado en la lista[i], en la posición actual del iterador."
   ]
  },
  {
   "cell_type": "code",
   "execution_count": null,
   "metadata": {},
   "outputs": [],
   "source": [
    "for idx, animal in enumerate(mascotas):\n",
    "    print ('#{}: {}'.format(idx, animal))"
   ]
  },
  {
   "cell_type": "markdown",
   "metadata": {},
   "source": [
    "### While\n",
    "\n",
    "Se usa para repetición en tanto una expresión lógica valga __True__."
   ]
  },
  {
   "cell_type": "code",
   "execution_count": null,
   "metadata": {},
   "outputs": [],
   "source": [
    "value = 7\n",
    "\n",
    "while (value < 50):\n",
    "    print(value)\n",
    "    value = value + 7"
   ]
  },
  {
   "cell_type": "code",
   "execution_count": null,
   "metadata": {},
   "outputs": [],
   "source": [
    "value = 10\n",
    "\n",
    "while value:         # if \n",
    "    print(value)\n",
    "    value -= 1\n",
    "else:                # se evalua si la cláusula en while es False\n",
    "    print('termina el ciclo')"
   ]
  },
  {
   "cell_type": "markdown",
   "metadata": {},
   "source": [
    "### Un ejemplo más elaborado"
   ]
  },
  {
   "cell_type": "code",
   "execution_count": null,
   "metadata": {},
   "outputs": [],
   "source": [
    "def f(x):\n",
    "    if x % 2:\n",
    "        return 3*x + 1\n",
    "    else:\n",
    "        return x // 2"
   ]
  },
  {
   "cell_type": "code",
   "execution_count": null,
   "metadata": {},
   "outputs": [],
   "source": [
    "def collatz(x):\n",
    "    print(x)\n",
    "    while (x > 1):\n",
    "        x = f(x)\n",
    "        print(x)"
   ]
  },
  {
   "cell_type": "code",
   "execution_count": null,
   "metadata": {},
   "outputs": [],
   "source": [
    "collatz(21)"
   ]
  },
  {
   "cell_type": "markdown",
   "metadata": {},
   "source": [
    "### Break"
   ]
  },
  {
   "cell_type": "markdown",
   "metadata": {},
   "source": [
    "Sirve para forzar la finalización de un ciclo."
   ]
  },
  {
   "cell_type": "code",
   "execution_count": null,
   "metadata": {},
   "outputs": [],
   "source": [
    "value = 10\n",
    "\n",
    "while value:\n",
    "    print(value)\n",
    "    value -= 1\n",
    "    break           # forza el término del ciclo\n",
    "else:\n",
    "    print('termina el ciclo')"
   ]
  },
  {
   "cell_type": "markdown",
   "metadata": {},
   "source": [
    "¿Cuándo se usa *break*?\n",
    "\n",
    "* Si en un ciclo iterador se está obligado a recorrer toda la lista: No se usa.\n",
    "* Si en un ciclo iterador no necesariamente se debe recorrer toda la lista: Se puede usar *break*."
   ]
  },
  {
   "cell_type": "markdown",
   "metadata": {},
   "source": [
    "Por ejemplo:\n",
    "\n",
    "1. Determinar el número de ocurrencias de la letra \"a\" en una cadena.\n",
    "2. Determinar si ocurre la letra \"a\" en una cadena."
   ]
  },
  {
   "cell_type": "code",
   "execution_count": null,
   "metadata": {},
   "outputs": [],
   "source": [
    "def contarA(s):\n",
    "    i = 0\n",
    "    count = 0\n",
    "    while (i < len(s)):\n",
    "        if (s[i] == 'a'): count += 1\n",
    "        i = i+1\n",
    "    return count"
   ]
  },
  {
   "cell_type": "code",
   "execution_count": null,
   "metadata": {},
   "outputs": [],
   "source": [
    "s = 'cadena'\n",
    "contarA(s)"
   ]
  },
  {
   "cell_type": "code",
   "execution_count": null,
   "metadata": {},
   "outputs": [],
   "source": [
    "def hayA(s):\n",
    "    i = 0\n",
    "    count = 0\n",
    "    while (i < len(s)):\n",
    "        if (s[i] == 'a'):\n",
    "            count += 1\n",
    "            break\n",
    "        i = i+1\n",
    "    return count"
   ]
  },
  {
   "cell_type": "code",
   "execution_count": null,
   "metadata": {},
   "outputs": [],
   "source": [
    "s = 100 * 'Esta es una cadena gigantesca que se repite muchas veces. '\n",
    "s"
   ]
  },
  {
   "cell_type": "code",
   "execution_count": null,
   "metadata": {},
   "outputs": [],
   "source": [
    "print(contarA(s))\n",
    "print(hayA(s))"
   ]
  },
  {
   "cell_type": "markdown",
   "metadata": {},
   "source": [
    "### Continue"
   ]
  },
  {
   "cell_type": "code",
   "execution_count": null,
   "metadata": {},
   "outputs": [],
   "source": [
    "value = 0\n",
    "while (value <= 5):\n",
    "    if (value == 3):\n",
    "        continue\n",
    "    print(value)\n",
    "    value += 1"
   ]
  },
  {
   "cell_type": "code",
   "execution_count": null,
   "metadata": {},
   "outputs": [],
   "source": []
  },
  {
   "cell_type": "markdown",
   "metadata": {},
   "source": [
    "### If y If-Else\n",
    "\n",
    "Ejecución condicional."
   ]
  },
  {
   "cell_type": "code",
   "execution_count": null,
   "metadata": {},
   "outputs": [],
   "source": [
    "value = True\n",
    "if value:            # se ejecuta si la expresión es True\n",
    "    print('value')\n",
    "        \n",
    "print('fin')"
   ]
  },
  {
   "cell_type": "code",
   "execution_count": null,
   "metadata": {},
   "outputs": [],
   "source": [
    "value = False\n",
    "if value:            # se ejecuta si la expresión es True\n",
    "    print('expresión cierta')\n",
    "else:                # se ejecuta si la expresión es False\n",
    "    print('expresión falsa')\n",
    "        \n",
    "print('fin')"
   ]
  },
  {
   "cell_type": "markdown",
   "metadata": {},
   "source": [
    "#### Elif\n",
    "\n",
    "Sirve para anidar varias condiciones if-else consecutivas.\n",
    "\n",
    "_*Elif = Else if*_"
   ]
  },
  {
   "cell_type": "code",
   "execution_count": null,
   "metadata": {},
   "outputs": [],
   "source": [
    "value = 3\n",
    "\n",
    "if (value == 0):     # if \n",
    "    print('value = cero')\n",
    "elif (value == 1):   # 1er. else\n",
    "    print('value = uno')\n",
    "elif (value == 2):   # 2do. else\n",
    "    print('value = dos')\n",
    "elif (value == 3):   # 3er. else\n",
    "    print('value = tres')\n",
    "else:                # 4to. else\n",
    "    print('value tiene otro valor')\n",
    "       \n",
    "print('fin')"
   ]
  },
  {
   "cell_type": "markdown",
   "metadata": {},
   "source": [
    "Desafortunadamente, Python no tiene un operador ternario como el __?:__ de C++."
   ]
  },
  {
   "cell_type": "markdown",
   "metadata": {},
   "source": [
    "-----\n",
    "\n",
    "## Funciones\n",
    "\n",
    "-----\n",
    "\n",
    "Una función es un estatuto ejecutable.\n",
    "\n",
    "* La definición de la función no ejecuta su cuerpo, solo se ejecuta cuando se le invoca.\n",
    "\n",
    "* El ámbito o alcance (scope) de las variables definidas dentro de una función es la misma función: las variabes son locales.\n",
    "\n",
    "* El cuerpo de una fucnión puede contener definición de otras funciones cuyo alcance se limita a dicha función.\n",
    "\n",
    "* Los parámetros se pasan a una función por referencia.\n",
    "\n",
    "* ¿Se puede modificar el valor de una variable pasada a una función en Python? NO. Y no es deseable y no se necesita."
   ]
  },
  {
   "cell_type": "code",
   "execution_count": null,
   "metadata": {},
   "outputs": [],
   "source": [
    "def fun1(*args):          # *args para pasar una cantidad de argumentos arbitraria\n",
    "    s = 0\n",
    "    for i in range(len(args)):\n",
    "        s += args[i]\n",
    "    return s\n",
    "\n",
    "def fun2(*args):          # *args para pasar una cantidad de argumentos arbitraria\n",
    "    s = 0\n",
    "    for i in args[0]:\n",
    "        s += i\n",
    "    return s\n",
    "    \n",
    "def fun3(**kwargs):       # **kwargs para pasar variables como argumentos\n",
    "    print(kwargs)         # (el argumento es un objeto diccionario)"
   ]
  },
  {
   "cell_type": "code",
   "execution_count": null,
   "metadata": {},
   "outputs": [],
   "source": [
    "fun1(1,2,3)"
   ]
  },
  {
   "cell_type": "code",
   "execution_count": null,
   "metadata": {},
   "outputs": [],
   "source": [
    "fun1([1,2,3])"
   ]
  },
  {
   "cell_type": "code",
   "execution_count": null,
   "metadata": {},
   "outputs": [],
   "source": [
    "fun2(1,2,3)"
   ]
  },
  {
   "cell_type": "code",
   "execution_count": null,
   "metadata": {},
   "outputs": [],
   "source": [
    "fun2([1,2,3])"
   ]
  },
  {
   "cell_type": "code",
   "execution_count": null,
   "metadata": {},
   "outputs": [],
   "source": [
    "fun3(x = 0, y = 1, z = 2)"
   ]
  },
  {
   "cell_type": "code",
   "execution_count": null,
   "metadata": {},
   "outputs": [],
   "source": [
    "def fun4(**kwargs):\n",
    "    for i in kwargs:\n",
    "        print(i, kwargs[i])"
   ]
  },
  {
   "cell_type": "code",
   "execution_count": null,
   "metadata": {},
   "outputs": [],
   "source": [
    "fun4(x = 0, y = 1, z = 2)"
   ]
  },
  {
   "cell_type": "markdown",
   "metadata": {},
   "source": [
    "**kwargs se usa para pasar un diccionario de parámetros a una función."
   ]
  },
  {
   "cell_type": "code",
   "execution_count": null,
   "metadata": {},
   "outputs": [],
   "source": [
    "def myfunction(**kwargs):\n",
    "    if ('iteraciones' in kwargs.keys()):\n",
    "        Iteraciones = kwargs['iteraciones']\n",
    "    else:\n",
    "        Iteraciones = 100\n",
    "        \n",
    "    for i in range(0, Iteraciones):\n",
    "        print(i, end=' ', flush=None)"
   ]
  },
  {
   "cell_type": "code",
   "execution_count": null,
   "metadata": {},
   "outputs": [],
   "source": [
    "import numpy as np"
   ]
  },
  {
   "cell_type": "code",
   "execution_count": null,
   "metadata": {},
   "outputs": [],
   "source": [
    "params = {'alpha': 0.01, 'x0': np.array([0.,0.01,0.]), 'tol': 1e-5}"
   ]
  },
  {
   "cell_type": "code",
   "execution_count": null,
   "metadata": {},
   "outputs": [],
   "source": [
    "myfunction(alpha = 0.01, x0 = np.array([0.,0.01,0.]), tol = 1e-5)"
   ]
  },
  {
   "cell_type": "code",
   "execution_count": null,
   "metadata": {},
   "outputs": [],
   "source": [
    "params = {'alpha': 0.01, 'x0': np.array([0.,0.01,0.]), 'tol': 1e-5, 'iteraciones': 15}"
   ]
  },
  {
   "cell_type": "code",
   "execution_count": null,
   "metadata": {},
   "outputs": [],
   "source": [
    "myfunction(alpha = 0.01, x0 = np.array([0.,0.01,0.]), tol = 1e-5, iteraciones = 15)"
   ]
  },
  {
   "cell_type": "code",
   "execution_count": null,
   "metadata": {},
   "outputs": [],
   "source": []
  },
  {
   "cell_type": "code",
   "execution_count": null,
   "metadata": {},
   "outputs": [],
   "source": [
    "def func(a, b, *args, **kwargs):\n",
    "    printf(a, b, args, kwargs)"
   ]
  },
  {
   "cell_type": "code",
   "execution_count": null,
   "metadata": {},
   "outputs": [],
   "source": [
    "#func(1, 2)\n",
    "#func(1, 2, 'ar', 'kw')\n",
    "#func(a=1, b=2, 'ar')\n",
    "#func(b=2, a=1, 'ar')"
   ]
  },
  {
   "cell_type": "code",
   "execution_count": null,
   "metadata": {},
   "outputs": [],
   "source": [
    "#func(b=1, 'ar', 'kw')"
   ]
  },
  {
   "cell_type": "markdown",
   "metadata": {},
   "source": [
    "### Lambda"
   ]
  },
  {
   "cell_type": "markdown",
   "metadata": {},
   "source": [
    "Funciones anónimas."
   ]
  },
  {
   "cell_type": "code",
   "execution_count": null,
   "metadata": {},
   "outputs": [],
   "source": [
    "f = lambda x: [x, x**2, x**3]"
   ]
  },
  {
   "cell_type": "code",
   "execution_count": null,
   "metadata": {},
   "outputs": [],
   "source": [
    "f(1)"
   ]
  },
  {
   "cell_type": "code",
   "execution_count": null,
   "metadata": {},
   "outputs": [],
   "source": [
    "f(5)"
   ]
  },
  {
   "cell_type": "code",
   "execution_count": null,
   "metadata": {},
   "outputs": [],
   "source": [
    "g = lambda x: x**2 if (x > 0) else -x"
   ]
  },
  {
   "cell_type": "code",
   "execution_count": null,
   "metadata": {},
   "outputs": [],
   "source": [
    "g(2)"
   ]
  },
  {
   "cell_type": "code",
   "execution_count": null,
   "metadata": {},
   "outputs": [],
   "source": [
    "g(-2)"
   ]
  },
  {
   "cell_type": "markdown",
   "metadata": {},
   "source": [
    "También se pueden implementar funciones de varios argumentos."
   ]
  },
  {
   "cell_type": "code",
   "execution_count": null,
   "metadata": {},
   "outputs": [],
   "source": [
    "h = lambda x, y: np.sqrt(x**2 + y**2)"
   ]
  },
  {
   "cell_type": "code",
   "execution_count": null,
   "metadata": {},
   "outputs": [],
   "source": [
    "h(2, 3)"
   ]
  },
  {
   "cell_type": "code",
   "execution_count": null,
   "metadata": {},
   "outputs": [],
   "source": [
    "h(3, 4)"
   ]
  },
  {
   "cell_type": "markdown",
   "metadata": {
    "jupyter": {
     "outputs_hidden": true
    }
   },
   "source": [
    "### Map"
   ]
  },
  {
   "cell_type": "markdown",
   "metadata": {
    "jupyter": {
     "outputs_hidden": true
    }
   },
   "source": [
    "Devuelve un objeto *map* (un iterador) el cual de aplicar una cierta función a cada elemento de un interable o lista.\n",
    "\n",
    "map(function, iterator)"
   ]
  },
  {
   "cell_type": "code",
   "execution_count": null,
   "metadata": {},
   "outputs": [],
   "source": [
    "def double(n):\n",
    "    return 2*n"
   ]
  },
  {
   "cell_type": "code",
   "execution_count": null,
   "metadata": {},
   "outputs": [],
   "source": [
    "lista = [1,2,3,4,5]\n",
    "result = map(double, lista)\n",
    "\n",
    "# si se imprime resulta, devuelve el objeto mapa\n",
    "print(result)\n",
    "\n",
    "# para imprimir los valores hay que listificar result\n",
    "print(list(result))"
   ]
  },
  {
   "cell_type": "code",
   "execution_count": null,
   "metadata": {},
   "outputs": [],
   "source": [
    "lista = [1,2,3,4,5]\n",
    "result = map(lambda x: 2*x, lista)\n",
    "print(list(result))"
   ]
  },
  {
   "cell_type": "code",
   "execution_count": null,
   "metadata": {},
   "outputs": [],
   "source": [
    "# List of strings\n",
    "l = ['bat', 'cat', 'elephant', 'mouse']\n",
    "  \n",
    "# map() can listify the list of strings individually\n",
    "result = list(map(list, l))\n",
    "print(result)"
   ]
  },
  {
   "cell_type": "code",
   "execution_count": null,
   "metadata": {},
   "outputs": [],
   "source": [
    "# List of strings\n",
    "l = ['Estos son ejemplos de frases.',\n",
    "     'Pueden ser oraciones en un corpus de textos.',\n",
    "     'Por ejemplo: un libro, un twitt, una reseña web.']\n",
    "  \n",
    "result = list(map(lambda s: s.split(), l))\n",
    "for i in result:\n",
    "    print(i)"
   ]
  },
  {
   "cell_type": "code",
   "execution_count": null,
   "metadata": {},
   "outputs": [],
   "source": []
  },
  {
   "cell_type": "markdown",
   "metadata": {},
   "source": [
    "**Observación**: para cálculos numéricos repetitivos, es mejor usar *Numpy*."
   ]
  },
  {
   "cell_type": "code",
   "execution_count": null,
   "metadata": {},
   "outputs": [],
   "source": []
  }
 ],
 "metadata": {
  "kernelspec": {
   "display_name": "Python 3",
   "language": "python",
   "name": "python3"
  },
  "language_info": {
   "codemirror_mode": {
    "name": "ipython",
    "version": 3
   },
   "file_extension": ".py",
   "mimetype": "text/x-python",
   "name": "python",
   "nbconvert_exporter": "python",
   "pygments_lexer": "ipython3",
   "version": "3.6.10"
  }
 },
 "nbformat": 4,
 "nbformat_minor": 4
}
