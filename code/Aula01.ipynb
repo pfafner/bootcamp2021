{
 "cells": [
  {
   "cell_type": "markdown",
   "metadata": {},
   "source": [
    "# Data Science Bootcamp\n",
    "# <center> **Aula 01 -- Repaso de Python**"
   ]
  },
  {
   "cell_type": "markdown",
   "metadata": {},
   "source": [
    "* Python es un lenguaje de alto nivel como Java, C#, Julia, Matlab, R.\n",
    "\n",
    "* Python es interpretado a diferencia de C ó C++ (Compilados), lo que implica que las instrucciones son reconocidas a tiempo de ejecución por una máquina virual y por lo tanto su ejecución es “lenta”.\n",
    "\n",
    "* Es el lenguaje de mayor crecimiento en usuarios en los últimos años.\n",
    "\n",
    "* Ha desplazado a R y Matlab como el lenguaje científico para análisis de datos.\n",
    "\n",
    "* Es el lenguaje #1 para Aprendizaje de Máquina y no tienen comparación en “Deep Learning”\n",
    "\n",
    "* Ver http://www.python.org\n",
    "\n",
    "* Para instalar la distribución de Anaconda (Recomendado) acceder a https://www.anaconda.com/download/"
   ]
  },
  {
   "cell_type": "markdown",
   "metadata": {},
   "source": [
    "## ¿Data Science + Big Data + Deep Learning acaso es compatible con un lenguaje interpretado?"
   ]
  },
  {
   "cell_type": "markdown",
   "metadata": {},
   "source": [
    "* Razón, Python es fácil de aprender.\n",
    "\n",
    "* Es “wrapper” de muchas librerias de bajo nivel escritas en C o CUDA (NVIDIA) implementadas en paralelo.\n",
    "\n",
    "* Tienen sus “trucos” para mejorar su eficiencia: Traducción automática de código Python a C.\n",
    "Por ejemplo: Cython, Numba (Yo prefiero numba, es muy fácil, aunque Cython es mas poderoso)."
   ]
  },
  {
   "cell_type": "markdown",
   "metadata": {},
   "source": [
    "-----\n",
    "# **1. Ejecutando Python**\n",
    "-----"
   ]
  },
  {
   "cell_type": "markdown",
   "metadata": {},
   "source": [
    "# Primer programa en Python: Programa que imprime “hola mundo”"
   ]
  },
  {
   "cell_type": "markdown",
   "metadata": {},
   "source": [
    "Instalar en la computadora la distribución de python (preferentemente versión 3.x).\n",
    "\n",
    "Si el interprete de python no esta en el $PATH, buscarlo con el comando Unix/Linux:\n",
    "\n",
    "* **$ which python**\n",
    "\n",
    "* */home/Alan/Anaconda3/bin/python*"
   ]
  },
  {
   "cell_type": "markdown",
   "metadata": {},
   "source": [
    "Revisar que versión de python se tiene instalada\n",
    "\n",
    "* **$ python --version**\n",
    "\n",
    "* *Python 3.6.10 :: Anaconda, Inc.*"
   ]
  },
  {
   "cell_type": "markdown",
   "metadata": {},
   "source": [
    "Crear un archivo de texto con su editor de preferencia llamado hola.py con el contenido de la siguiente línea #1 y el path a su instalción de pyhton, luego una línea abajo el comando print y salvarlo\n",
    "\n",
    "* **nano hola.py**\n",
    "\n",
    "* **print('hello world!')**"
   ]
  },
  {
   "cell_type": "markdown",
   "metadata": {},
   "source": [
    "Para ejecutar *hola.py* desde la línea de comando:\n",
    "\n",
    "* **$ python hola.py**\n",
    "\n",
    "en el directorio donde esta localizado el archivo *hola.py*."
   ]
  },
  {
   "cell_type": "markdown",
   "metadata": {},
   "source": [
    "# Invocando al intérprete de Python directamente (Command Line)"
   ]
  },
  {
   "cell_type": "markdown",
   "metadata": {},
   "source": [
    "En la línea de comando\n",
    "\n",
    "* **$ python3**\n",
    "\n",
    "* *>>>*"
   ]
  },
  {
   "cell_type": "markdown",
   "metadata": {},
   "source": [
    "Los caracteres *>>>* son el prompt del intérprete de python. Aquí podemos dar los comandos de python que gustemos. Por ejemplo:\n",
    "\n",
    "* **>>> print('hello world')**\n",
    "\n",
    "* *hello world*"
   ]
  },
  {
   "cell_type": "markdown",
   "metadata": {},
   "source": [
    "* **>>> 5+8**\n",
    "\n",
    "* *13*"
   ]
  },
  {
   "cell_type": "markdown",
   "metadata": {},
   "source": [
    "* **>>> 'hola' + 'mundo'**\n",
    "\n",
    "* *'hola mundo'*\n",
    "\n",
    "Esta en una forma muy cómoda de hacer procesar datos: en forma interactiva."
   ]
  },
  {
   "cell_type": "markdown",
   "metadata": {},
   "source": [
    "# Jupyter-lab y Jupyter-notebook"
   ]
  },
  {
   "cell_type": "markdown",
   "metadata": {},
   "source": [
    "De hecho existe un intérprete especial interactivo llamado *IPython* que viene con la distribución de Python.\n",
    "\n",
    "Pero en más popular son la notebooks de Jupyther Lab o de Jupyter notebook. Para instalarlo ver\n",
    "\n",
    "https://jupyter.readthedocs.io/en/latest/install.html\n",
    "\n",
    "https://jupyterlab.readthedocs.io/en/stable/getting_started/installation.html"
   ]
  },
  {
   "cell_type": "markdown",
   "metadata": {},
   "source": [
    "# Visual Studio Code"
   ]
  },
  {
   "cell_type": "markdown",
   "metadata": {},
   "source": [
    "Visual Studio Code o VSCode es un editor de alto nivel, redefinido y optimizado para construir y ejecutar aplicaciones en la nube modernas.\n",
    "\n",
    "Incluye una extensión de Python y de Jupyter, para programar en un ambiente integrado dentro de VSCode.\n",
    "\n",
    "Para instalarlo, ver\n",
    "\n",
    "https://code.visualstudio.com/download"
   ]
  },
  {
   "cell_type": "code",
   "execution_count": null,
   "metadata": {},
   "outputs": [],
   "source": []
  },
  {
   "cell_type": "markdown",
   "metadata": {},
   "source": [
    "-----\n",
    "# **2. Python Crash Course I**\n",
    "-----"
   ]
  },
  {
   "cell_type": "markdown",
   "metadata": {},
   "source": [
    "## Tipos de Variables (Data types)"
   ]
  },
  {
   "cell_type": "markdown",
   "metadata": {},
   "source": [
    "* Boleanas (*booleans*): bool, bool8, bool, ...\n",
    "\n",
    "* Cadenas (*strings*): str, ...\n",
    "\n",
    "* Enteros (*int*): byte, short, int8, int16, int32, int64, ...\n",
    "\n",
    "* Enteros Sin-signo (*sunsigned int*): ubyte, ushort, uint8, uint16, uint 32, uint64, ...\n",
    "\n",
    "* Punto flotante (*float*): single, double, float16, float32, float64, float96, float128, ...\n",
    "\n",
    "* Flotantes complejos (*complex*): csingle, complex64, complex128, complex192, complex256, ..."
   ]
  },
  {
   "cell_type": "code",
   "execution_count": null,
   "metadata": {},
   "outputs": [],
   "source": [
    "a = 'cadena'"
   ]
  },
  {
   "cell_type": "code",
   "execution_count": null,
   "metadata": {},
   "outputs": [],
   "source": [
    "type(a)"
   ]
  },
  {
   "cell_type": "code",
   "execution_count": null,
   "metadata": {},
   "outputs": [],
   "source": [
    "print(type(a))"
   ]
  },
  {
   "cell_type": "code",
   "execution_count": null,
   "metadata": {},
   "outputs": [],
   "source": [
    "b = 2021\n",
    "print(type(b))"
   ]
  },
  {
   "cell_type": "code",
   "execution_count": null,
   "metadata": {},
   "outputs": [],
   "source": [
    "c = 2021.\n",
    "print(type(c))"
   ]
  },
  {
   "cell_type": "code",
   "execution_count": null,
   "metadata": {},
   "outputs": [],
   "source": [
    "d = True\n",
    "print(type(d))"
   ]
  },
  {
   "cell_type": "code",
   "execution_count": null,
   "metadata": {},
   "outputs": [],
   "source": []
  },
  {
   "cell_type": "markdown",
   "metadata": {},
   "source": [
    "## Operadores numéricos (strings)"
   ]
  },
  {
   "cell_type": "markdown",
   "metadata": {},
   "source": [
    "**+** Suma (concatena strings)\r\n",
    "\r\n",
    "**−** Resta\r\n",
    "\r\n",
    "**∗** Multiplicación (repite strigs)\r\n",
    "\r\n",
    "**/** División\r\n",
    "\r\n",
    "**//** División entera\r\n",
    "\r\n",
    "**∗∗** Potencia\r\n",
    "\r\n",
    "**\\%** Módulo\r\n",
    "\r\n",
    "Estos operadores se pueden combinar con el igual (=) hacer un operador que actua sobre una misma variable. Por ejemplo, en vez de hacer:\r\n",
    "\r\n",
    "**x=x+5, y=y%2x, y = y\\%2x, y=y%2**\r\n",
    "\r\n",
    "se puede escribie\r\n",
    "\r\n",
    "**x+=5, y%=2x, y\\%=2x, y%=2**"
   ]
  },
  {
   "cell_type": "code",
   "execution_count": null,
   "metadata": {},
   "outputs": [],
   "source": [
    "a = 'string'\n",
    "b = 'cadena'"
   ]
  },
  {
   "cell_type": "code",
   "execution_count": null,
   "metadata": {},
   "outputs": [],
   "source": [
    "a + b"
   ]
  },
  {
   "cell_type": "code",
   "execution_count": null,
   "metadata": {},
   "outputs": [],
   "source": [
    "a * 5"
   ]
  },
  {
   "cell_type": "code",
   "execution_count": null,
   "metadata": {},
   "outputs": [],
   "source": [
    "a[::-1]"
   ]
  },
  {
   "cell_type": "markdown",
   "metadata": {},
   "source": [
    "## Variables"
   ]
  },
  {
   "cell_type": "markdown",
   "metadata": {},
   "source": [
    "En Python, las variables no requieren ser declaradas, su tipo se define automáticamente al momento de ser inicializadas."
   ]
  },
  {
   "cell_type": "code",
   "execution_count": null,
   "metadata": {},
   "outputs": [],
   "source": [
    "x = 3"
   ]
  },
  {
   "cell_type": "code",
   "execution_count": null,
   "metadata": {},
   "outputs": [],
   "source": [
    "x"
   ]
  },
  {
   "cell_type": "code",
   "execution_count": null,
   "metadata": {},
   "outputs": [],
   "source": [
    "print(x)       # otra forma de display"
   ]
  },
  {
   "cell_type": "code",
   "execution_count": null,
   "metadata": {},
   "outputs": [],
   "source": [
    "y = 5\r\n",
    "x\r\n",
    "y              # sólo se imprime la última salida"
   ]
  },
  {
   "cell_type": "code",
   "execution_count": null,
   "metadata": {},
   "outputs": [],
   "source": [
    "y = 5\r\n",
    "print(x)\r\n",
    "print(y)       # para imprimir las dos "
   ]
  },
  {
   "cell_type": "code",
   "execution_count": null,
   "metadata": {},
   "outputs": [],
   "source": [
    "x + y"
   ]
  },
  {
   "cell_type": "code",
   "execution_count": null,
   "metadata": {},
   "outputs": [],
   "source": [
    "type(x)           # imprime el tipo de la variable x"
   ]
  },
  {
   "cell_type": "code",
   "execution_count": null,
   "metadata": {},
   "outputs": [],
   "source": [
    "print(type(x))    # print de la información \"completa\""
   ]
  },
  {
   "cell_type": "code",
   "execution_count": null,
   "metadata": {},
   "outputs": [],
   "source": [
    "print(type(x))\r\n",
    "print(x/y)\r\n",
    "\r\n",
    "print(type(x/y))  # se hace el \"cast\", cambio de tipo automáticamente"
   ]
  },
  {
   "cell_type": "code",
   "execution_count": null,
   "metadata": {},
   "outputs": [],
   "source": [
    "z = x/y\n",
    "print(y*z)        # float\n",
    "print(int(z*y))   # cast explícito (se obliga a ser int)"
   ]
  },
  {
   "cell_type": "code",
   "execution_count": null,
   "metadata": {},
   "outputs": [],
   "source": [
    "print(x**5)       # potencia"
   ]
  },
  {
   "cell_type": "code",
   "execution_count": null,
   "metadata": {},
   "outputs": [],
   "source": [
    "print(7/3)        # división\n",
    "print(7//3)       # división entera"
   ]
  },
  {
   "cell_type": "code",
   "execution_count": null,
   "metadata": {},
   "outputs": [],
   "source": [
    "c = 7.35"
   ]
  },
  {
   "cell_type": "code",
   "execution_count": null,
   "metadata": {},
   "outputs": [],
   "source": [
    "int(c)"
   ]
  },
  {
   "cell_type": "code",
   "execution_count": null,
   "metadata": {},
   "outputs": [],
   "source": [
    "s = str(c)\r\n",
    "s"
   ]
  },
  {
   "cell_type": "code",
   "execution_count": null,
   "metadata": {},
   "outputs": [],
   "source": [
    "float(s) + 1"
   ]
  },
  {
   "cell_type": "markdown",
   "metadata": {},
   "source": [
    "Nota: Python ( a diferencia de muchos lenguajes con C) no tienen operadores de Incremento y Decremento unarios : *++* y *--*\n",
    "\n",
    "Sí tiene incrementar y decremetar:"
   ]
  },
  {
   "cell_type": "code",
   "execution_count": null,
   "metadata": {},
   "outputs": [],
   "source": [
    "x = 10\n",
    "print(x)\n",
    "x += 2\n",
    "print(x)"
   ]
  },
  {
   "cell_type": "markdown",
   "metadata": {},
   "source": [
    "## Operadores Lógicos (de comparación)"
   ]
  },
  {
   "cell_type": "markdown",
   "metadata": {},
   "source": [
    "** == ** ¿es igual a?\n",
    "\n",
    "** != ** ¿es diferenta a?\n",
    "\n",
    "** <,> ** ¿es menor a?, ¿es mayor a?\n",
    "\n",
    "** <=, >= ** ¿es menor o igual a?, ¿es mayor o igual?"
   ]
  },
  {
   "cell_type": "markdown",
   "metadata": {},
   "source": [
    "## Tipo Boleano (True, False) y Operadores Lógicos"
   ]
  },
  {
   "cell_type": "code",
   "execution_count": null,
   "metadata": {},
   "outputs": [],
   "source": [
    "x, y = True, False           # asignación múltiple en una misma línea\n",
    "print('x, y =', x, y)       # el print imprime la secuencia de arcumentos\n",
    "\n",
    "print('x*y =', x * y)       # producto booleano\n",
    "print('x and y', x and y)   # operador and\n",
    "print('x or y =',  x or y)  # operador or\n",
    "print('x xor y =', x != y)  # operador xor\n",
    "print('not x =', not x)     # operador not\n",
    "print('not x =', 1-x)       # operador not booleano"
   ]
  },
  {
   "cell_type": "code",
   "execution_count": null,
   "metadata": {},
   "outputs": [],
   "source": [
    "print(type(x*y))\n",
    "print(type(x and y))"
   ]
  },
  {
   "cell_type": "markdown",
   "metadata": {},
   "source": [
    "## Strings"
   ]
  },
  {
   "cell_type": "code",
   "execution_count": null,
   "metadata": {},
   "outputs": [],
   "source": [
    "hola  = 'hola'\n",
    "espc  = \" \"           # cadena con un caracter, el espacio\n",
    "mundo = '''mundo'''   # es indistinto usar cadenas con dobles comillas o sencillas\n",
    "\n",
    "s = hola + espc + mundo  # concatenando cadenas\n",
    "print(s)\n",
    "print(len(s))            # imprime la longitud de la cadena"
   ]
  },
  {
   "cell_type": "code",
   "execution_count": null,
   "metadata": {},
   "outputs": [],
   "source": [
    "print(s.title())                  # Formato de Título\n",
    "print(s.capitalize())             # Primera en mayúscula\n",
    "print(s.rjust(30))                # Justifica a la derecha, asumiendo ancho de 30\n",
    "print(s.center(30))               # centra asumiendo ancho de 30, llena con espacio\n",
    "print(len(s.rjust(30)))           # imprime el acho de la cadena resultante contardo el texto en el ancho de 30\n",
    "print(s.replace('mund', 'amig'))  # sustituye todas las instancias de una subcadena por otra\n",
    "print((' '+s))\n",
    "print((' '+s).strip())   # quita espacios al incio o final"
   ]
  },
  {
   "cell_type": "code",
   "execution_count": null,
   "metadata": {},
   "outputs": [],
   "source": [
    "s."
   ]
  },
  {
   "cell_type": "markdown",
   "metadata": {},
   "source": [
    "Para ver más: **s.** y luego **tab** y aparecerán los propiedades y métodos del objeto, seleccionar uno y poner **help(** para mostrar los detalles."
   ]
  },
  {
   "cell_type": "code",
   "execution_count": null,
   "metadata": {},
   "outputs": [],
   "source": [
    "help(s.count())"
   ]
  },
  {
   "cell_type": "code",
   "execution_count": null,
   "metadata": {},
   "outputs": [],
   "source": [
    "s.find('a')"
   ]
  },
  {
   "cell_type": "markdown",
   "metadata": {},
   "source": [
    "## Listas"
   ]
  },
  {
   "cell_type": "markdown",
   "metadata": {},
   "source": [
    "Python tiene 4 tipos integrados de Contenedores:\n",
    "    1. Listas,\n",
    "    2. Tuplas,\n",
    "    3. Diccionarios,\n",
    "    4. Conjuntos\n",
    "\n",
    "Lists, Tuple, Diccionaries, Sets\n",
    "\n",
    "Una Lista es el equivalente a un arreglo (*stack*).\n",
    "\n",
    "Las listas son “unidimensionales” y se delimitan por corchetes (**[ ]**), o paréntesis cuadrados.\n",
    "\n",
    "Los elementos de una lista se separan por comas.\n",
    "\n",
    "Las listas son variables, en el sentido de que su contenido puede cambiarse.\n",
    "\n",
    "Un vector $\\mathbf{x} \\in \\mathbb{R}^n$ puede representarse como una lista de $n$ floats!\n",
    "\n",
    "(observen que escribí en **LaTeX** !!).\n",
    "\n",
    "Los arreglos bidimensionales son en realidad listas de listas: vectores de vectores,\n",
    "\n",
    "Los trimensionales seran listas de listas de listas y asi."
   ]
  },
  {
   "cell_type": "code",
   "execution_count": null,
   "metadata": {},
   "outputs": [],
   "source": [
    "x = [4.2, 6.3, 3., 7.3]  # las listasn son unidimensionales, separadas por comas\n",
    "print(x)            # la variable x a sido entera, luego string y ahora es una lista de flotantes!\n",
    "print(type(x))      # tipo lista\n",
    "\n",
    "print(\"Número de elementos = \", len(x))     # cantidad de elementos\n",
    "print(x[1])         # elemento con índice 1: es el segundo\n",
    "print(x[0])         # primer elemento de la lista\n",
    "print(x[-1])        # último elemento de la lista"
   ]
  },
  {
   "cell_type": "code",
   "execution_count": null,
   "metadata": {},
   "outputs": [],
   "source": [
    "x[2] = s            # reemplazando un elemento de la lista     \n",
    "print(x)            # imprimiendo la lista actualizada"
   ]
  },
  {
   "cell_type": "markdown",
   "metadata": {},
   "source": [
    "Odernando listas:"
   ]
  },
  {
   "cell_type": "code",
   "execution_count": null,
   "metadata": {},
   "outputs": [],
   "source": [
    "x = [4.2, 6.3, 3., 7.3]\n",
    "x.sort()\n",
    "print(x)"
   ]
  },
  {
   "cell_type": "code",
   "execution_count": null,
   "metadata": {},
   "outputs": [],
   "source": [
    "empty = []          # creamos una lista vacía\n",
    "empty"
   ]
  },
  {
   "cell_type": "markdown",
   "metadata": {},
   "source": [
    "## **Ejercicio : Pila Básica con listas**"
   ]
  },
  {
   "cell_type": "markdown",
   "metadata": {},
   "source": [
    "Simular un PILA (últimas entradas, primeras salidas) con una lista:\n",
    "\n",
    "1. Crear una pila vacía.\n",
    "2. Añadir 5 elementos, uno a la vez, a la pila.\n",
    "3. Imprimir el contenido de la lista.\n",
    "4. Eliminar el último elemento agregado, cuidando de guardarlo en una variable e.\n",
    "5. Imprimir de nuevo el contenido de la lista, para verificar."
   ]
  },
  {
   "cell_type": "code",
   "execution_count": null,
   "metadata": {},
   "outputs": [],
   "source": [
    "\n",
    "\n",
    "\n",
    "\n",
    "\n",
    "\n",
    "\n",
    "\n",
    "\n",
    "\n",
    "\n",
    "\n",
    "\n",
    "\n",
    "\n",
    "\n",
    "\n",
    "\n",
    "# Solución\n",
    "pila = []"
   ]
  },
  {
   "cell_type": "code",
   "execution_count": null,
   "metadata": {},
   "outputs": [],
   "source": [
    "pila.append('a')       # añade un elemento al final de la pila\n",
    "pila.append('b')\n",
    "pila.append('c')\n",
    "pila.append('d')\n",
    "pila.append(2019)\n",
    "print(pila)"
   ]
  },
  {
   "cell_type": "code",
   "execution_count": null,
   "metadata": {},
   "outputs": [],
   "source": [
    "e = pila.pop()\n",
    "print(pila)\n",
    "print(e)"
   ]
  },
  {
   "cell_type": "markdown",
   "metadata": {},
   "source": [
    "Vaciar la pila"
   ]
  },
  {
   "cell_type": "code",
   "execution_count": null,
   "metadata": {},
   "outputs": [],
   "source": [
    "pila.pop()\n",
    "pila.pop()\n",
    "pila.pop()\n",
    "pila.pop()\n",
    "print(pila)"
   ]
  },
  {
   "cell_type": "markdown",
   "metadata": {},
   "source": [
    "Hacer un .pop() adicional. ¿Qué ocurre?"
   ]
  },
  {
   "cell_type": "code",
   "execution_count": null,
   "metadata": {},
   "outputs": [],
   "source": [
    "# Si se elimina el último elemento de una lista vacía, marca error\n",
    "pila.pop()"
   ]
  },
  {
   "cell_type": "code",
   "execution_count": null,
   "metadata": {},
   "outputs": [],
   "source": []
  },
  {
   "cell_type": "markdown",
   "metadata": {},
   "source": [
    "## **Pregunta:**"
   ]
  },
  {
   "cell_type": "markdown",
   "metadata": {},
   "source": [
    "¿Cómo resolver el problema de remover un elemento de una pila vacía sin que el programa falle?"
   ]
  },
  {
   "cell_type": "code",
   "execution_count": null,
   "metadata": {},
   "outputs": [],
   "source": [
    "\n",
    "\n",
    "\n",
    "\n",
    "\n",
    "\n",
    "\n",
    "\n",
    "\n",
    "\n",
    "\n",
    "\n",
    "\n",
    "\n",
    "\n",
    "\n",
    "\n",
    "\n",
    "# Solución\n",
    "pila = []\n",
    "if (len(pila) > 0):\n",
    "    e = pila.pop()\n",
    "else:\n",
    "    print('La lista está vacía.')"
   ]
  },
  {
   "cell_type": "markdown",
   "metadata": {},
   "source": [
    "Otra posible solución es utilizar una instancia *try-except*.\n",
    "\n",
    "* Try: intenta una porción de código, y si no hay algún error, la ejecuta.\n",
    "* Except: En el caso de ocurrir, ejecuta el bloque de código indicado en except."
   ]
  },
  {
   "cell_type": "code",
   "execution_count": null,
   "metadata": {},
   "outputs": [],
   "source": [
    "# Solución 2: usar un try-except\n",
    "pila = []\n",
    "try:\n",
    "    e = pila.pop()\n",
    "except:\n",
    "    print('La lista está vacía.')"
   ]
  },
  {
   "cell_type": "markdown",
   "metadata": {},
   "source": [
    "## Cola Básica con listas:"
   ]
  },
  {
   "cell_type": "markdown",
   "metadata": {},
   "source": [
    "La función *insert()* de las listas recibe dos parámetros:\n",
    "\n",
    "1. el índice donde se insertará el elemento (el nuevo elemento quedará delante del indicado por este parámetro),\n",
    "2. el elemento a insertar."
   ]
  },
  {
   "cell_type": "code",
   "execution_count": null,
   "metadata": {},
   "outputs": [],
   "source": [
    "# Una Cola (FIFO), primeras entradas, primeras salidas\n",
    "cola = []\n",
    "cola.insert(0, 'a')  # añade un nuevo elemento tal que quede con el índice antes del elemento 0 \n",
    "cola.insert(0, 'b')\n",
    "cola.insert(0, 'c')\n",
    "cola.insert(0, 'd')\n",
    "cola.insert(0, 'e')\n",
    "\n",
    "print(cola)\n",
    "print(cola, cola.pop()) # se extrae el primero que se insertó."
   ]
  },
  {
   "cell_type": "markdown",
   "metadata": {},
   "source": [
    "## Selección de sublistas (Slicing)"
   ]
  },
  {
   "cell_type": "markdown",
   "metadata": {},
   "source": [
    "Para extraer sublistas en Python, se tiene una notación inspirada en Matlab:\n",
    "\n",
    "**x[a:b]**\n",
    "\n",
    "Esto es equivalente a [$x_a$, $x_{a+1}$, $x_{a+2}$, $\\ldots$, $x_{b−1}$], es decir el elemento indexado por $b$ no se regresa."
   ]
  },
  {
   "cell_type": "markdown",
   "metadata": {},
   "source": [
    "**Nota:** Python siempre usa intervalos semi-cerrados: (cerrado por la izquierda, abierto por la derecha).\n",
    "\n",
    "* (a,b) significa $\\{x \\in \\mathbb{N}: a \\leq x < b\\} = \\{x \\in \\mathbb{N}: a \\leq x \\leq b-1\\}$.\n",
    "\n",
    "* (a:b) significa $\\{x \\in \\mathbb{N}: a \\leq x < b\\} = \\{x \\in \\mathbb{N}: a \\leq x \\leq b-1\\}$."
   ]
  },
  {
   "cell_type": "code",
   "execution_count": null,
   "metadata": {},
   "outputs": [],
   "source": [
    "x = [4.2, 'bueno', 6.3,'casa', 'ml', 3., 7.3, 'hola']\n",
    "print(x)\n",
    "print(len(x))\n",
    "\n",
    "# usar dos parámetros, por default se refiere a los extremos\n",
    "print(x[0:len(x)])   # desde el elemento indexado por 0, hasta el antes del elemento indexado por len(x)\n",
    "print(x[:])          # lista desde el inico hasta el último, se puede omitir uno o los dos    \n",
    "                     # terminaciones y se toma por default el extremo"
   ]
  },
  {
   "cell_type": "markdown",
   "metadata": {},
   "source": [
    "Más generalmente\n",
    "\n",
    "**sequencia[inicio:fin:paso]**\n",
    "\n",
    "    inicio: Índice del primer caracter a regresar. Default es 0.\n",
    "\n",
    "    fin: Índice del terminación de la selección; no se incluye el elemento indexado. Default es -1.\n",
    "\n",
    "    paso: Tamaño de incremento del índice. Default es 1.\n",
    "\n",
    "En una secuencia (lista) admite dos indexaciones:\n",
    "\n",
    "    índices positivos: iniciando por la izquieda,\n",
    "    \n",
    "    índices negativos: iniciando por la derecha)."
   ]
  },
  {
   "cell_type": "code",
   "execution_count": null,
   "metadata": {},
   "outputs": [],
   "source": [
    "x = [ 0,  1,  2,  3,  4,  5,  6,  7,  8,  9, 10, 11, 12, 13, 14, 15, 16, 17, 18, 19]\n",
    "print(x)\n",
    "print(len(x), 'elementos')"
   ]
  },
  {
   "cell_type": "code",
   "execution_count": null,
   "metadata": {},
   "outputs": [],
   "source": [
    "# imprime sólo los elementos desde el índice 2 al índice 9\n",
    "print(x[2:10])"
   ]
  },
  {
   "cell_type": "code",
   "execution_count": null,
   "metadata": {},
   "outputs": [],
   "source": [
    "# imprime sólo los elementos desde el índice 5 en adelante\n",
    "print(x[5:])"
   ]
  },
  {
   "cell_type": "code",
   "execution_count": null,
   "metadata": {},
   "outputs": [],
   "source": [
    "# imprime sólo los elementos desde el inicio hasta antes del antepenúltimo (tercero del final hacia atrás)\n",
    "print(x[:-3])"
   ]
  },
  {
   "cell_type": "code",
   "execution_count": null,
   "metadata": {},
   "outputs": [],
   "source": [
    "# imprime la lista revertida, o en orde inverso\n",
    "print(x[::-1])"
   ]
  },
  {
   "cell_type": "code",
   "execution_count": null,
   "metadata": {},
   "outputs": [],
   "source": [
    "# imprime sólo los elementos desde el índice 2 en adelante, dando saltos de tres en tres\n",
    "print(x[2::3])"
   ]
  },
  {
   "cell_type": "code",
   "execution_count": null,
   "metadata": {},
   "outputs": [],
   "source": [
    "# imprime los elementos desde el inicio hasta el quinto de atrás hacia adelante, con saltos de dos en dos\n",
    "print(x[:-5:2])"
   ]
  },
  {
   "cell_type": "code",
   "execution_count": null,
   "metadata": {},
   "outputs": [],
   "source": [
    "x[4] = ''\n",
    "x[-4] = ''\n",
    "print(x)"
   ]
  },
  {
   "cell_type": "markdown",
   "metadata": {},
   "source": [
    "## Una lista de listas"
   ]
  },
  {
   "cell_type": "code",
   "execution_count": null,
   "metadata": {},
   "outputs": [],
   "source": [
    "A = [ [ 11, 12, 13, 14], \n",
    "      [ 21, 22, 23, 24], \n",
    "      [ 31, 32, 33, 34] ]\n",
    "\n",
    "print(A)       # todo el objeto"
   ]
  },
  {
   "cell_type": "code",
   "execution_count": null,
   "metadata": {},
   "outputs": [],
   "source": [
    "print(A[0])    # el elemento cero de la lista A, que es a su vez una lista"
   ]
  },
  {
   "cell_type": "code",
   "execution_count": null,
   "metadata": {},
   "outputs": [],
   "source": [
    "print(A[0][1]) # del primer elemento (lista), el segundo elemento "
   ]
  },
  {
   "cell_type": "markdown",
   "metadata": {},
   "source": [
    "## *List Comprehension*"
   ]
  },
  {
   "cell_type": "markdown",
   "metadata": {},
   "source": [
    "Queremos extraer la submatriz\n",
    "\n",
    " [ [ 22, 23], \n",
    "   [ 32, 33] ]"
   ]
  },
  {
   "cell_type": "code",
   "execution_count": null,
   "metadata": {},
   "outputs": [],
   "source": [
    "A[1:3][1:3]      # probemos"
   ]
  },
  {
   "cell_type": "code",
   "execution_count": null,
   "metadata": {},
   "outputs": [],
   "source": [
    "A[1:3, 1:3]      # probemos"
   ]
  },
  {
   "cell_type": "code",
   "execution_count": null,
   "metadata": {},
   "outputs": [],
   "source": [
    "[a[1:3] for a in A[1:3]]       # probemos"
   ]
  },
  {
   "cell_type": "markdown",
   "metadata": {},
   "source": [
    "Esto es *list comprehension*  (Ciclos dentro de listas)."
   ]
  },
  {
   "cell_type": "markdown",
   "metadata": {},
   "source": [
    "Para entender List Comprehension introduciremos el mecanismo de ciclos de Python.\n",
    "\n",
    "Es el mecanismo de iteración de Python.\n",
    "\n",
    "Es necesario iterar sobre los elementos de objetos que aceptan iteradores: Contenedores (Listas, por ejemplo)."
   ]
  },
  {
   "cell_type": "code",
   "execution_count": null,
   "metadata": {},
   "outputs": [],
   "source": [
    "clientes = ['Juan', 'Pedro', 'Elsa', 'Ana', 'Alberto', 'Judith', 'Miguel', 'Oscar', 'Laura', 'Jose', 'Roberto', 'Andrés', 'María']\n",
    "print(clientes)"
   ]
  },
  {
   "cell_type": "code",
   "execution_count": null,
   "metadata": {},
   "outputs": [],
   "source": [
    "for cliente in clientes:\n",
    "    print ('{} es cliente de la empresa'.format(cliente))\n",
    "# end for alumno\n",
    "\n",
    "print ('Fin de lista')"
   ]
  },
  {
   "cell_type": "markdown",
   "metadata": {},
   "source": [
    "**Observaciones:**\n",
    "\n",
    "    El comando del ciclo termina con dos puntos (:)\n",
    "\n",
    "    El cuerpo de ciclo esta indentado, de hecho el editor lo hizo automáticamente.\n",
    "\n",
    "    No hay un (end) para delimitar el ciclo, se delimita automáticamente por el fin de la indentación.\n",
    "\n",
    "Dado que la identación hace legibles los programas, en Python no la deja opcional, es forzada (parte del diseño del lenguaje)."
   ]
  },
  {
   "cell_type": "markdown",
   "metadata": {},
   "source": [
    "## Función *enumerate*"
   ]
  },
  {
   "cell_type": "markdown",
   "metadata": {},
   "source": [
    "La función *enumerate* devuelve un objeto enumerado: un par (índice, valor)\n",
    "\n",
    "    índice (iniciando en cero),\n",
    "    \n",
    "    objeto (valor)"
   ]
  },
  {
   "cell_type": "code",
   "execution_count": null,
   "metadata": {},
   "outputs": [],
   "source": [
    "for idx, cliente in enumerate(clientes):\n",
    "    print(idx+1, cliente)"
   ]
  },
  {
   "cell_type": "markdown",
   "metadata": {},
   "source": [
    "## Función *range*"
   ]
  },
  {
   "cell_type": "markdown",
   "metadata": {},
   "source": [
    "Regresa un objeto que produce una secuencia de enteros entre inicio (inclusive) y fin (exclusive), separados por un paso.\n",
    "\n",
    "**range([inicio,] fin)**\n",
    "\n",
    "**range(inico, fin [, paso])**"
   ]
  },
  {
   "cell_type": "code",
   "execution_count": null,
   "metadata": {},
   "outputs": [],
   "source": [
    "# imprime el objeto rango\n",
    "x = range(2, 10, 3)\n",
    "print(x)\n",
    "print(type(x))"
   ]
  },
  {
   "cell_type": "code",
   "execution_count": null,
   "metadata": {},
   "outputs": [],
   "source": [
    "# imprime los valores en la secuencia del objeto rango\n",
    "for y in x:\n",
    "    print(y)"
   ]
  },
  {
   "cell_type": "code",
   "execution_count": null,
   "metadata": {},
   "outputs": [],
   "source": [
    "print(x[0])"
   ]
  },
  {
   "cell_type": "markdown",
   "metadata": {},
   "source": [
    "**Observaciones:**\n",
    "    \n",
    "    Imprimir un objeto rango no imprime la lista, esta sólo se genera cuando se itera sobre dicho objeto.\n",
    "\n",
    "    Esto permite ahorrar memoria.\n",
    "\n",
    "    La forma de generar una lista a partir de un objeto rango es usar la funcion list()."
   ]
  },
  {
   "cell_type": "code",
   "execution_count": null,
   "metadata": {},
   "outputs": [],
   "source": [
    "l = list(range(2,10,3))     # genera una lista\n",
    "t = tuple(range(2,10,3))    # genera una 'tupla' (veremos más delante la diferencia)\n",
    "print('lista =', l, '     tupla =', t)        # note los paréntesis en vez de corchetes"
   ]
  },
  {
   "cell_type": "markdown",
   "metadata": {},
   "source": [
    "## Comprensión de Listas (List Comprehension)\n",
    "\n",
    "El procesamiento de Listas en más eficiente si se realiza mediante *list comprehensions* que mediante *loops*:\n",
    "\n",
    "Por ejemplo: generar una secuencia de los cuadrados de los números pares entre 0 y 20."
   ]
  },
  {
   "cell_type": "code",
   "execution_count": null,
   "metadata": {},
   "outputs": [],
   "source": [
    "# solución mediante loops\n",
    "quad=[]\n",
    "\n",
    "for i in range(0,20,2):\n",
    "    quad.append(i**2)\n",
    "\n",
    "print(quad)"
   ]
  },
  {
   "cell_type": "code",
   "execution_count": null,
   "metadata": {},
   "outputs": [],
   "source": [
    "# otra versión aún más larga\n",
    "quad=[]\n",
    "\n",
    "for i in range(0,20):\n",
    "    if i%2==0:\n",
    "        quad.append(i**2)\n",
    "\n",
    "print(quad)"
   ]
  },
  {
   "cell_type": "code",
   "execution_count": null,
   "metadata": {},
   "outputs": [],
   "source": [
    "# solución mediante list comprehnsion\n",
    "\n",
    "quad = [i**2 for i in range(0,20,2)]\n",
    "print(quad)"
   ]
  },
  {
   "cell_type": "code",
   "execution_count": null,
   "metadata": {},
   "outputs": [],
   "source": [
    "# incluyendo condiciones\n",
    "\n",
    "quad = [i**2 for i in range(0,20) if i%2==0]   \n",
    "print(quad)"
   ]
  },
  {
   "cell_type": "markdown",
   "metadata": {},
   "source": [
    "Otro ejemplo: Hacer todos los pares de elementos de la lista *l* con la lista *n*.\n",
    "\n",
    "(i.e. el producto cartesiano $l \\times n$)"
   ]
  },
  {
   "cell_type": "code",
   "execution_count": null,
   "metadata": {},
   "outputs": [],
   "source": [
    "l = ['a', 'b', 'c']\n",
    "n = ['1', '2']"
   ]
  },
  {
   "cell_type": "code",
   "execution_count": null,
   "metadata": {},
   "outputs": [],
   "source": [
    "# versión con loops\n",
    "ln = []\n",
    "for x in l:    \n",
    "    for y in n:\n",
    "        ln.append([x,y])\n",
    "\n",
    "print(ln)"
   ]
  },
  {
   "cell_type": "code",
   "execution_count": null,
   "metadata": {},
   "outputs": [],
   "source": [
    "# ahora con list comprehension\n",
    "pares = [[x,y] for x in l for y in n]\n",
    "\n",
    "# concatenación \n",
    "strln = [x+y for x in l for y in n]\n",
    "\n",
    "print(pares)\n",
    "print(strln)"
   ]
  },
  {
   "cell_type": "code",
   "execution_count": null,
   "metadata": {},
   "outputs": [],
   "source": [
    "print(pares[0])\n",
    "print(pares[0][0])\n",
    "print(pares[0][1])"
   ]
  },
  {
   "cell_type": "markdown",
   "metadata": {},
   "source": [
    "## Tuplas"
   ]
  },
  {
   "cell_type": "markdown",
   "metadata": {},
   "source": [
    "Se comportan como listas constantes.\n",
    "\n",
    "Se delimitan por paréntesis curvos **( )**.\n",
    "\n",
    "No pueden ser modificadas.\n",
    "\n",
    "Pueden contener elementos de distintos tipos.\n",
    "\n",
    "Se indexan (slicing) con corchetes igual que las listas."
   ]
  },
  {
   "cell_type": "code",
   "execution_count": null,
   "metadata": {},
   "outputs": [],
   "source": [
    "x = ( 0,  1,  2,  3,  4,  5,  6,  7,  8,  9, 10, 11, 12, 13, 14, 15, 16, 17, 18, 19)\n",
    "print(x)\n",
    "print(x[-len(x):])\n",
    "print(x[0], x[-1])"
   ]
  },
  {
   "cell_type": "code",
   "execution_count": null,
   "metadata": {},
   "outputs": [],
   "source": [
    "x[5] = 'cinco'       # error, no se puede modificar una tupla!   \n",
    "print(x)"
   ]
  },
  {
   "cell_type": "code",
   "execution_count": null,
   "metadata": {},
   "outputs": [],
   "source": [
    "# Para modificarla, se debe crear una nueva tupla, destruyendo el contenido anterior\n",
    "x = ( 0,  1,  2,  'tres',  4,  5,  6,  'siete',  8,  9, 10, 11, 12)\n",
    "print(x)"
   ]
  },
  {
   "cell_type": "markdown",
   "metadata": {},
   "source": [
    "## Asignación Múltiple"
   ]
  },
  {
   "cell_type": "markdown",
   "metadata": {},
   "source": [
    "Python permite en una misma línea asignar varias variables a la vez:"
   ]
  },
  {
   "cell_type": "code",
   "execution_count": null,
   "metadata": {},
   "outputs": [],
   "source": [
    "a, b, c = 1, 2, 3\n",
    "print(a, b, c)\n",
    "a, b, c = b, c, a   \n",
    "print(a, b, c)"
   ]
  },
  {
   "cell_type": "markdown",
   "metadata": {},
   "source": [
    "Entonces para hacer intercambio de variables no es necesario usar variables temporales!"
   ]
  },
  {
   "cell_type": "code",
   "execution_count": null,
   "metadata": {},
   "outputs": [],
   "source": [
    "a, b = 5, 10\n",
    "a, b = b, a      # swap!\n",
    "print(a, b)"
   ]
  },
  {
   "cell_type": "markdown",
   "metadata": {},
   "source": [
    "Explicación: Python construye una tupla temporal (obvia los paréntesis) y hace la respectiva referenciación a los nuevos valores."
   ]
  },
  {
   "cell_type": "markdown",
   "metadata": {},
   "source": [
    "## Variables en Python: ¿Almacenan Valores o Referencias?\n",
    "\n",
    "En lenguajes como C, las variables almacenan valores, y dichos valores pueden ser referencias a otras variables (apuntadores).\n",
    "\n",
    "En Python, las variables son **todas** referencias.\n",
    "\n",
    "    Nunca se cambia el valor de una variable, se cambia a lo que hace referencia.\n",
    "\n",
    "    Cuando hacemos x = 1 lo que hecemos es que que x hace referencia a un valor de 1.\n",
    "\n",
    "    Luego, si hacemos x = ‘hola’. Lo que en realidad se hace es que ahora x hace refencia a la string ‘hola’"
   ]
  },
  {
   "cell_type": "code",
   "execution_count": null,
   "metadata": {},
   "outputs": [],
   "source": [
    "(a, b, c) = (1, 2, 3)  # construyo una tupla con tres variables haciendo refencia a los valores 1,2,3\n",
    "t         = (a, b, c)  # t es una tupla con tres elementos que hacen referencia a los valores de a,b,c"
   ]
  },
  {
   "cell_type": "code",
   "execution_count": null,
   "metadata": {},
   "outputs": [],
   "source": [
    "a += 10            # ¿puedo cambiar el valor de a?\n",
    "print(a)"
   ]
  },
  {
   "cell_type": "code",
   "execution_count": null,
   "metadata": {},
   "outputs": [],
   "source": [
    "print(t)           # ¿cuánto vale t?"
   ]
  },
  {
   "cell_type": "code",
   "execution_count": null,
   "metadata": {},
   "outputs": [],
   "source": [
    "print(t[0]+=10)    # ¿puedo modificar t?"
   ]
  },
  {
   "cell_type": "code",
   "execution_count": null,
   "metadata": {},
   "outputs": [],
   "source": [
    "t += 10\n",
    "print(t)"
   ]
  },
  {
   "cell_type": "markdown",
   "metadata": {},
   "source": [
    "## Diccionarios"
   ]
  },
  {
   "cell_type": "markdown",
   "metadata": {},
   "source": [
    "Almacenan pares del tipo  **llave : valor** $\\ \\ \\ $ (*key : value*)\n",
    "\n",
    "Se delimitan por llaves (*brackets*) ** { } **.\n",
    "\n",
    "Los pares se separan por comas.\n",
    "\n",
    "Se accede al contenido a través de las llaves."
   ]
  },
  {
   "cell_type": "code",
   "execution_count": null,
   "metadata": {},
   "outputs": [],
   "source": [
    "d = {'pez': 'tiburón', 'mamífero': 'vaca', 'número': 3, 'irracional': 3.1415}\n",
    "print(d)"
   ]
  },
  {
   "cell_type": "code",
   "execution_count": null,
   "metadata": {},
   "outputs": [],
   "source": [
    "print(d['pez'])"
   ]
  },
  {
   "cell_type": "code",
   "execution_count": null,
   "metadata": {},
   "outputs": [],
   "source": [
    "# los diccionarios sólo tienen un sentido\n",
    "print(d['tiburón'])"
   ]
  },
  {
   "cell_type": "markdown",
   "metadata": {},
   "source": [
    "**Observaciones:**\n",
    "\n",
    "Sólo se puede llamar a la primer componente (*key*).\n",
    "\n",
    "El diccionario sólo devuelve la segunda componente (*value*)."
   ]
  },
  {
   "cell_type": "code",
   "execution_count": null,
   "metadata": {},
   "outputs": [],
   "source": [
    "print('número' in d)\n",
    "print('ave' in d)\n",
    "print('irracional' in d)\n",
    "print(3 in d)                # no es una llave"
   ]
  },
  {
   "cell_type": "code",
   "execution_count": null,
   "metadata": {},
   "outputs": [],
   "source": [
    "# pasando las llaves a una lista mediante comprehensions\n",
    "print([x for x in d])"
   ]
  },
  {
   "cell_type": "markdown",
   "metadata": {},
   "source": [
    "## Conjuntos (*Sets*)\n",
    "\n",
    "La función es parecida a las listas, soló que no tienen un orden establecido.\n",
    "\n",
    "También se delimitan por llaves (*brackets*) **{ }**.\n",
    "\n",
    "Los elementos se separan por comas.\n",
    "\n",
    "No se pueden indexar."
   ]
  },
  {
   "cell_type": "code",
   "execution_count": null,
   "metadata": {},
   "outputs": [],
   "source": [
    "mascotas = {'perro', 'gato', 'pajaro', 'tortuga', 'pez', 'conejo','lagartija'}\n",
    "print(mascotas)\n",
    "print(type(mascotas))"
   ]
  },
  {
   "cell_type": "code",
   "execution_count": null,
   "metadata": {},
   "outputs": [],
   "source": [
    "# selecionar el primer elemento\n",
    "mascotas[0]"
   ]
  },
  {
   "cell_type": "code",
   "execution_count": null,
   "metadata": {},
   "outputs": [],
   "source": [
    "mascotasList = [x for x in mascotas]\n",
    "\n",
    "print(mascotas)\n",
    "print(mascotasList)"
   ]
  },
  {
   "cell_type": "code",
   "execution_count": null,
   "metadata": {},
   "outputs": [],
   "source": [
    "print(mascotas.sort())  # los conjuntos (*set*) no son ordenables!"
   ]
  },
  {
   "cell_type": "code",
   "execution_count": null,
   "metadata": {},
   "outputs": [],
   "source": [
    "mascotasList.sort()\n",
    "print(mascotasList)"
   ]
  },
  {
   "cell_type": "code",
   "execution_count": null,
   "metadata": {},
   "outputs": [],
   "source": [
    "# conjunto vacio\n",
    "emptySet = {}\n",
    "print(emptySet)"
   ]
  },
  {
   "cell_type": "code",
   "execution_count": null,
   "metadata": {},
   "outputs": [],
   "source": [
    "# covertir entre tipos de contenedores mediante casting\n",
    "data = ['a', 'e', 'i', 'o', 'u']\n",
    "print(data)\n",
    "data = tuple(data)     # convertir a tupla\n",
    "print(data)\n",
    "data = set(data)       # convertir a conjunto (se desordena)\n",
    "print(data)\n",
    "data = list(data)      # convertir a lista\n",
    "print(data)"
   ]
  },
  {
   "cell_type": "markdown",
   "metadata": {},
   "source": [
    "--------\n",
    "--------"
   ]
  },
  {
   "cell_type": "markdown",
   "metadata": {},
   "source": [
    "## **Ejercicio 1:**\n",
    "\n",
    "Usando sólo lo visto hoy.\n",
    "\n",
    "Crear una lista con los números enteros entre 1 y 2019 (en orden ascendente), que sean cuadrados perfectos.\n",
    "\n",
    "**L = [1, 4, 9, 16, 25, ...]**\n",
    "\n",
    "¿Cuántos hay?"
   ]
  },
  {
   "cell_type": "markdown",
   "metadata": {},
   "source": [
    "## **Ejercicio 2:**\n",
    "\n",
    "Crear una lista con los números enteros entre 1 y 50 (en orden ascendente).\n",
    "\n",
    "**L = [1, 2, 3, ..., 49, 50]**\n",
    "\n",
    "Hacer un *slicing* (selección) apropiado de **L** para obtener las siguientes sublistas:\n",
    "\n",
    "    a)  L1 = [7, 17, 27, 37, 47]\n",
    "    b)  L2 = [7, 8, 9, 10]\n",
    "    c)  L3 = [38, 26, 14]\n",
    "    d)  L4 = [50, 49, 48, 47, 46, 45, 44, 43, 42, 41, 40, 39, 38]\n",
    "\n",
    "¿Cómo haría para obtener la siguiente sublista?\n",
    "\n",
    "    e)  L5 = [5, 10, 15, 20, 50, 45, 40, 35]"
   ]
  },
  {
   "cell_type": "markdown",
   "metadata": {},
   "source": [
    "## **Ejercicio 3:**\n",
    "\n",
    "Crear la siguiente matriz (como una lista de listas).\n",
    "\n",
    "**$M$ = [[11, 12, 13, 14, 15], [21, 22, 23, 24, 25], [31, 32, 33, 34, 35], [41, 42, 43, 44, 45]]**\n",
    "\n",
    "a) Use list comprehension para obtener la matrix transpuesta **$M^T$**.\n",
    "\n",
    "b) Extienda su función o algoritmo para que sirva para cualquier matriz rectangular $M$."
   ]
  },
  {
   "cell_type": "markdown",
   "metadata": {},
   "source": [
    "## ** Ejercicio 4:**\n",
    "\n",
    "Considere el diccionario de letras a números (en el orden alfabético del castellano):\n",
    "\n",
    "**Diccionario = {'a': 1, 'b': 2, 'c': 3, 'd': 4, ..., 'ñ': 15, ..., 'z': 27}**\n",
    "\n",
    "Explique qué hacen las siguientes líneas de código:\n",
    "\n",
    "(Trate de explicarlo intuitivamente sin ejecutar el código, luego compruebe su intuición).\n",
    "\n",
    "1) *A = dict({Diccionario[k]: k for k in Diccionario.keys()})*\n",
    "\n",
    "2) *B = dict({k: Diccionario.get(k) for k in Diccionario.keys()})*\n",
    "\n",
    "3) *C = dict({B.get(A.get(k)): k for k in Diccionario.values()})*"
   ]
  },
  {
   "cell_type": "code",
   "execution_count": null,
   "metadata": {},
   "outputs": [],
   "source": []
  }
 ],
 "metadata": {
  "kernelspec": {
   "display_name": "Python 3",
   "language": "python",
   "name": "python3"
  },
  "language_info": {
   "codemirror_mode": {
    "name": "ipython",
    "version": 3
   },
   "file_extension": ".py",
   "mimetype": "text/x-python",
   "name": "python",
   "nbconvert_exporter": "python",
   "pygments_lexer": "ipython3",
   "version": "3.6.10"
  }
 },
 "nbformat": 4,
 "nbformat_minor": 4
}
